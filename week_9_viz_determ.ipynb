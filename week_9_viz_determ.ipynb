{
 "cells": [
  {
   "cell_type": "markdown",
   "metadata": {},
   "source": [
    "# Week 9 Overview\n",
    "\n",
    "This week will be a mix of data vizualization problems and . \n",
    "\n",
    "The first 5 problems are data cleaning and the final 4 problems are linear algebra. "
   ]
  },
  {
   "cell_type": "markdown",
   "metadata": {},
   "source": [
    "### Data Visualization\n",
    "\n",
    "Data visualization is a key part of exploratory data analysis (EDA), a crucial initial step for understanding a dataset and preparing for statistical modeling.\n",
    "\n",
    "Helps visually answer questions such as:\n",
    "- what patterns are evident in the data?\n",
    "- what variables are important?\n",
    "- does the data have anomalies or outliers?\n",
    "\n",
    "Data visualization is also used throughout the data analysis process to show results and convey information to stakeholders.\n",
    "\n",
    "Typically, EDA uses `histograms` & `box plots` to visualize `distribution` of a single continuous variable. `Bar charts` & `scatterplots` are used for `bivariate analysis` - correlation between two variables.\n"
   ]
  },
  {
   "cell_type": "markdown",
   "metadata": {},
   "source": [
    "#### Histograms\n",
    "\n",
    "![histograms](https://raw.githubusercontent.com/brendenwest/cis276/main/images/histograms.png)\n",
    "\n",
    "Display the distribution of a continuous variable.\n",
    "- Useful for visualizing the shape, for identifying\n",
    "patterns or trends, for detecting\n",
    "outliers, skewness, or multimodality\n",
    "- Divides data into equal-width intervals (`bins`)\n",
    "- Height of each `bar` represents frequency or\n",
    "`count` of observations\n",
    "- Can also compare the distribution of two\n",
    "or more variables\n"
   ]
  },
  {
   "cell_type": "markdown",
   "metadata": {},
   "source": [
    "#### Box & Whisker Plots\n",
    "\n",
    "A box plot can show how tightly data is grouped, how the data is skewed, and also the symmetry of data.\n",
    "\n",
    "![image](https://cdn1.byjus.com/wp-content/uploads/2020/10/Box-Plot-and-Whisker-Plot-2.png)\n",
    "\n",
    "Display `median`, `quartiles`, and outliers.\n",
    "- Useful for visualizing the distribution and spread.\n",
    "- Box represents `interquartile range` (IQR)\n",
    "- Line inside the box represents the median\n",
    "- Whiskers extend from box to minimum and maximum values within 1.5 times the IQR from the box\n",
    "- Values outside of this range are considered outliers and plotted as individual points\n"
   ]
  },
  {
   "cell_type": "markdown",
   "metadata": {},
   "source": [
    "#### Scatterplots\n",
    "\n",
    "Scatter (aka X-Y) plots show the relationship between two continuous variables. Also useful for identifying outlier data points.\n",
    "\n",
    "![scatterplots](https://www.mathsisfun.com/data/images/correlation-examples.svg)\n",
    "\n"
   ]
  },
  {
   "cell_type": "markdown",
   "metadata": {},
   "source": [
    "#### Bar Charts\n",
    "\n",
    "Useful for visualizing distribution of `categorical` variables through relative size of bars.\n",
    "\n",
    "-  One axis represents categories being compared\n",
    "- Other axis represents frequency, count, or percentage of each category\n",
    "- usually has space between bars to avoid confusion with histograms\n",
    "\n",
    "![bar_chart](https://www.mathsisfun.com/data/images/bar-chart-movies.svg)\n"
   ]
  },
  {
   "cell_type": "markdown",
   "metadata": {},
   "source": [
    "### Plotting with matplotlib\n",
    "\n",
    "matplotlib is python package designed for creating (mostly two-dimensional) publication-quality plots.\n",
    "\n",
    "It allows interactive plotting from the iPython shell or within Jupyter notebooks\n",
    "\n",
    "matplotlib can export visualizations to  common vector and raster graphics formats (PDF, SVG, JPG, PNG, BMP, GIF, etc.).\n",
    "\n",
    "- plots & plot types\n",
    "- title & labels\n",
    "- legends\n",
    "- subplots\n",
    "- annotations\n",
    "- saving plots"
   ]
  },
  {
   "cell_type": "markdown",
   "metadata": {},
   "source": [
    "### Plotting with pandas\n",
    "\n",
    "The pandas `plot()` method is a wrapper for matplotlib's pyplot.plot() and produces the same plots, but with simpler syntax for visualizing dataframes.\n",
    "`.plot()` has several optional parameters. Most notably, the `kind` parameter  determines which kind of plot you’ll create (default is a `line` plot):\n",
    "\n",
    "- \"area\" for area plots.\n",
    "- \"bar\" for vertical bar charts.\n",
    "- \"barh\" for horizontal bar charts.\n",
    "- \"box\" for box plots.\n",
    "- \"hexbin\" for hexbin plots.\n",
    "- \"hist\" for histograms.\n",
    "- \"kde\" for kernel density estimate charts.\n",
    "- \"density\" an alias for \"kde\".\n",
    "- \"line\" for line graphs.\n",
    "- \"pie\" for pie charts.\n",
    "- \"scatter\" for scatter plots."
   ]
  },
  {
   "cell_type": "markdown",
   "metadata": {},
   "source": [
    "### Plotting with seaborn\n",
    "\n",
    "Seaborn is a library for making statistical graphics in Python. It builds on top of matplotlib and integrates closely with pandas data structures.\n",
    "\n",
    "Seaborn not only makes it easier than pandas to prepare a wider variety of plots, but supports enhancements for presentation-quality plots.\n",
    "\n",
    "Seaborn supports several key types of plots:\n",
    "\n",
    "- **relational** - show the relationship between two numeric variables. Includes scatter plots and line plots\n",
    "- **categorical** - compare data in different categories\n",
    "- **distribution** - examine how numeric data is distributed across a range of values. Types of distribution plots are histogram, kernel density estimate (KDE) plot, and empirical cumulative distribution function (ECDF) plot\n",
    "- **predictive** - plots that are designed for predictive analysis, such as for linear regression models.\n",
    "\n",
    "#### Seaborn styles\n",
    "\n",
    "`set_style(style)`\n",
    "Sets the background style with one of these values: `darkgrid`, `whitegrid`, `dark`, `white`, and `ticks` (the default). This style stays in effect until it is changed by another set_style() call.\n",
    "#### General vs. specific methods\n",
    "\n",
    "You can create Seaborn plots using the general `relplot()` command, which expects a `kind` parameter.\n",
    "\n",
    "Alternatively, you can use a specific method - e.g. `lineplot()`, which does not require a `kind` parameter.\n",
    "\n",
    "The two approaches mostly produce the same result, but the the general methods let you create plots with subplots, while the specific methods don’t.\n",
    "\n",
    "So the general methods return a `FacetGrid` object that contains an `Axes` object for each subplot. The specific methods return an `Axes` object."
   ]
  },
  {
   "cell_type": "markdown",
   "metadata": {},
   "source": [
    "#### Basic Seaborn plot parameters\n",
    "\n",
    "- data - the DataFrame of data to plot\n",
    "- kind - the type of plot (general plots only)\n",
    "- x, y - data columns for the x- and y-axis\n",
    "- hue -  the column that determines categories to plot, with different color for each category\n",
    "- palette -  color pallette for the plot\n",
    "- height - The height of the plot in inches with a default of 5. (general plots only)\n",
    "- aspect - the ratio of width to height (general plots only)\n",
    "- legend - options for how the legend will be drawn: `auto` (the default), `brief`, `full`, and `False`. (general plots only)\n",
    "\n",
    "#### Creating subplots\n",
    "\n",
    "- By default, x and y labels are shared by subplots\n",
    "- subplots get their title from the category label\n",
    "\n",
    "#### Modifying plot features\n",
    "\n",
    "The `Axes` object that provides methods for enhancing a plot.\n",
    "\n",
    "#### Saving plots\n",
    "\n",
    "Seaborn plots can be saved to PNG, SVG, or PDF files. The approach is slightly different for plots created with general or specific methods.\n",
    "\n",
    "- **General method** - assign the plot's FacetGrid object to a variable and then use the `savefig()` method of the FacetGrid object\n",
    "- **Specific method** - call the `get_figure()` method on the Axes object  returned by the lineplot() method, then chain go the `savefig()` method"
   ]
  },
  {
   "cell_type": "markdown",
   "metadata": {},
   "source": [
    "# Data Visualization Problems\n",
    "\n",
    "For the problems this week we are going to go a step deeper and start to ask questions about our data. "
   ]
  },
  {
   "cell_type": "code",
   "execution_count": 2,
   "metadata": {},
   "outputs": [],
   "source": [
    "import pandas as pd\n",
    "import seaborn as sns\n",
    "\n",
    "# Source: https://data-seattlecitygis.opendata.arcgis.com/datasets/SeattleCityGIS::disability-and-health-insurance-seattle-neighborhoods/about\n",
    "dis_health_df = pd.read_csv('seattle_data/disability_health_insurance_Neighborhoods.csv')\n",
    "dis_health_df.columns = [i.replace(\" \", \"_\") for i in dis_health_df.columns]\n",
    "\n",
    "# Source: https://data-seattlecitygis.opendata.arcgis.com/datasets/SeattleCityGIS::poverty-and-employment-status-seattle-neighborhoods/about\n",
    "income_df = pd.read_csv('seattle_data/incomes_Neighborhoods.csv')\n",
    "income_df.columns = [i.replace(\" \", \"_\") for i in income_df.columns]\n",
    "\n",
    "# Source: https://data-seattlecitygis.opendata.arcgis.com/datasets/SeattleCityGIS::incomes-occupations-and-earnings-seattle-neighborhoods/about\n",
    "poverty_df = pd.read_csv('seattle_data/poverty_Neighborhoods.csv')\n",
    "poverty_df.columns = [i.replace(\" \", \"_\") for i in poverty_df.columns]"
   ]
  },
  {
   "cell_type": "markdown",
   "metadata": {},
   "source": [
    "## Problem 1: Asking Questions (10 pts)\n",
    "\n",
    "Take 5 minutes to look through the above data sources as pose 5 analytical questions you might want to ask with that data. By analytical I mean question will drive informative analysis. For example:\n",
    "\n",
    "**Good Question**: Is there relationship between health insurance coverage and disability?\n",
    "\n",
    "**Bad Question**: How many neighboorhoods are there?\n",
    "\n",
    "The second question is the type of question that is is good to ask when processing the data to make sure you processed it correctly but it doesn't give you insights into the data.\n",
    "\n",
    "At least two of the questions must involve data from at least two of the datasets.\n",
    "\n",
    "In class you will share your questions with your group and as a group you will pick two questions to focus on for analysis in class. On your own this week you will answer the rest of your questions.\n",
    "\n",
    "**Grading**\n",
    "You will receive 2 points per question. One point for forming a question the other for it being a analytical question. "
   ]
  },
  {
   "cell_type": "code",
   "execution_count": null,
   "metadata": {},
   "outputs": [],
   "source": []
  },
  {
   "cell_type": "markdown",
   "metadata": {},
   "source": [
    "## Problem 2: Data Cleaning and Merging (10 pts)\n",
    "\n",
    "Take a few minutes to prepare your data for analysis. You can decide what preparation is required but you must at least perform two of the following to receive credit. You might find that you start to create a graph and then need to prepare the data better (i.e. remove an outlier) that is expected.\n",
    "\n",
    "1. Clean up the column names.\n",
    "2. Merge dataframes together. \n",
    "3. Fill in null values.\n",
    "4. Removing outliers. \n",
    "5. Change the shape of the data (We will learn aggregations next week but if you know how feel free to use them).\n",
    "6. Any other preparation required to answer your questions.\n",
    "\n",
    "For each preparation step add a comment to explain why you did that step. \n",
    "\n",
    "**Grading** You will receive 5 points for the first two data prep steps you perform. 2 point will be for the comment and then 3 points will be for accurately performing the prep. "
   ]
  },
  {
   "cell_type": "code",
   "execution_count": null,
   "metadata": {},
   "outputs": [],
   "source": []
  },
  {
   "cell_type": "markdown",
   "metadata": {},
   "source": [
    "## Problem 3: Question 1 (12 pts)\n",
    "\n",
    "You will prepare a visualization for the question you asked by completing the following steps: \n",
    "\n",
    "1. Add a mark down cell writing out your question and your findings.\n",
    "2. Create a visual two answer the question. Perform at least 2 modifications of the graph to empathise what you found in the data (https://www.youtube.com/watch?v=IM-r9lEZciM). You must add a comment to your code explain the modifications you made. For example:\n",
    "    * Add a decriptive title\n",
    "    * Modify the color(s) in your graph\n",
    "    * Pick a accurate scale to communicate your findings without skewing the data. (Watch https://www.youtube.com/watch?v=9pNWVMxaFuM)\n",
    "\n",
    "\n",
    "\n",
    "**Grading** \n",
    "\n",
    "You will receive 3 points for the mark down cell writing out your questions and findings. \n",
    "\n",
    "You will receive 3 points for picking the correct visualization for your question and data. \n",
    "\n",
    "For each graph modification you will get 2 points for correctly coding the modification and 1 point for the comment explaining why you picked that modification.  "
   ]
  },
  {
   "cell_type": "code",
   "execution_count": null,
   "metadata": {},
   "outputs": [],
   "source": []
  },
  {
   "cell_type": "markdown",
   "metadata": {},
   "source": [
    "## Problem 4: Question 2 (12 pts)\n",
    "\n",
    "You will prepare a visualization for the question you asked by completing the following steps: \n",
    "\n",
    "1. Add a mark down cell writing out your question and your findings.\n",
    "2. Create a visual two answer the question. Perform at least 2 modifications of the graph to empathise what you found in the data (https://www.youtube.com/watch?v=IM-r9lEZciM). You must add a comment to your code explain the modifications you made. For example:\n",
    "    * Add a decriptive title\n",
    "    * Modify the color(s) in your graph\n",
    "    * Pick a accurate scale to communicate your findings without skewing the data. (Watch https://www.youtube.com/watch?v=9pNWVMxaFuM)\n",
    "\n",
    "\n",
    "\n",
    "**Grading** \n",
    "\n",
    "You will receive 3 points for the mark down cell writing out your questions and findings. \n",
    "\n",
    "You will receive 3 points for picking the correct visualization for your question and data. \n",
    "\n",
    "For each graph modification you will get 2 points for correctly coding the modification and 1 point for the comment explaining why you picked that modification.  "
   ]
  },
  {
   "cell_type": "code",
   "execution_count": null,
   "metadata": {},
   "outputs": [],
   "source": []
  },
  {
   "cell_type": "markdown",
   "metadata": {},
   "source": [
    "## Problem 5: Question 3 (12 pts)\n",
    "\n",
    "You will prepare a visualization for the question you asked by completing the following steps: \n",
    "\n",
    "1. Add a mark down cell writing out your question and your findings.\n",
    "2. Create a visual two answer the question. Perform at least 2 modifications of the graph to empathise what you found in the data (https://www.youtube.com/watch?v=IM-r9lEZciM). You must add a comment to your code explain the modifications you made. For example:\n",
    "    * Add a decriptive title\n",
    "    * Modify the color(s) in your graph\n",
    "    * Pick a accurate scale to communicate your findings without skewing the data. (Watch https://www.youtube.com/watch?v=9pNWVMxaFuM)\n",
    "\n",
    "\n",
    "\n",
    "**Grading** \n",
    "\n",
    "You will receive 3 points for the mark down cell writing out your questions and findings. \n",
    "\n",
    "You will receive 3 points for picking the correct visualization for your question and data. \n",
    "\n",
    "For each graph modification you will get 2 points for correctly coding the modification and 1 point for the comment explaining why you picked that modification.  "
   ]
  },
  {
   "cell_type": "code",
   "execution_count": null,
   "metadata": {},
   "outputs": [],
   "source": []
  },
  {
   "cell_type": "markdown",
   "metadata": {},
   "source": [
    "## Problem 6: Question 4 (12 pts)\n",
    "\n",
    "You will prepare a visualization for the question you asked by completing the following steps: \n",
    "\n",
    "1. Add a mark down cell writing out your question and your findings.\n",
    "2. Create a visual two answer the question. Perform at least 2 modifications of the graph to empathise what you found in the data (https://www.youtube.com/watch?v=IM-r9lEZciM). You must add a comment to your code explain the modifications you made. For example:\n",
    "    * Add a decriptive title\n",
    "    * Modify the color(s) in your graph\n",
    "    * Pick a accurate scale to communicate your findings without skewing the data. (Watch https://www.youtube.com/watch?v=9pNWVMxaFuM)\n",
    "\n",
    "\n",
    "\n",
    "**Grading** \n",
    "\n",
    "You will receive 3 points for the mark down cell writing out your questions and findings. \n",
    "\n",
    "You will receive 3 points for picking the correct visualization for your question and data. \n",
    "\n",
    "For each graph modification you will get 2 points for correctly coding the modification and 1 point for the comment explaining why you picked that modification.  "
   ]
  },
  {
   "cell_type": "code",
   "execution_count": null,
   "metadata": {},
   "outputs": [],
   "source": []
  },
  {
   "cell_type": "markdown",
   "metadata": {},
   "source": [
    "## Problem 7: Question 5 (12 pts)\n",
    "\n",
    "You will prepare a visualization for the question you asked by completing the following steps: \n",
    "\n",
    "1. Add a mark down cell writing out your question and your findings.\n",
    "2. Create a visual two answer the question. Perform at least 2 modifications of the graph to empathise what you found in the data (https://www.youtube.com/watch?v=IM-r9lEZciM). You must add a comment to your code explain the modifications you made. For example:\n",
    "    * Add a decriptive title\n",
    "    * Modify the color(s) in your graph\n",
    "    * Pick a accurate scale to communicate your findings without skewing the data. (Watch https://www.youtube.com/watch?v=9pNWVMxaFuM)\n",
    "\n",
    "\n",
    "\n",
    "**Grading** \n",
    "\n",
    "You will receive 3 points for the mark down cell writing out your questions and findings. \n",
    "\n",
    "You will receive 3 points for picking the correct visualization for your question and data. \n",
    "\n",
    "For each graph modification you will get 2 points for correctly coding the modification and 1 point for the comment explaining why you picked that modification.  "
   ]
  },
  {
   "cell_type": "code",
   "execution_count": null,
   "metadata": {},
   "outputs": [],
   "source": []
  },
  {
   "cell_type": "markdown",
   "metadata": {},
   "source": [
    "## Problem 8 (10pts)\n",
    "Pick 5 columns in the datasets above and create a covariance by completing the following steps:\n",
    "\n",
    "1. Mean center all columns. You can use panda's mean function for this. \n",
    "2. Create a covariance matrix as follows:\n",
    "$$ C = X^T X \\dfrac{1}{n-1}$$\n",
    "3. You should save this to a dateframe called `cov_df` to be used in the next problem. \n",
    "4. Output the results of `cov_df` and visually check your results against [DataFrame.cov](https://pandas.pydata.org/docs/reference/api/pandas.DataFrame.cov.html). The numbers should match. "
   ]
  },
  {
   "cell_type": "code",
   "execution_count": null,
   "metadata": {},
   "outputs": [],
   "source": []
  },
  {
   "cell_type": "markdown",
   "metadata": {},
   "source": [
    "## Problem 9 (10pts)\n",
    "\n",
    "Next you will take the `cov_df` and create a correlation matrix from it. The formula for this is\n",
    "\n",
    "$$ R = SCS $$\n",
    "\n",
    "Where $C$ is the covariance matrix `cov_df`, and $S$ is a diagonal matrix of reciprocated standard deviations per variable (that is, the ith diagonal is $\\dfrac{1}{\\sigma_i}$ where $\\sigma_i$ is the standard deviation of variable i). You can use panda's standard deviation function to create $S$. \n",
    "\n",
    "Once you have created the correlation matrix visually compare it to [np.corrcoef](https://numpy.org/doc/2.2/reference/generated/numpy.corrcoef.html)"
   ]
  },
  {
   "cell_type": "code",
   "execution_count": null,
   "metadata": {},
   "outputs": [],
   "source": []
  }
 ],
 "metadata": {
  "kernelspec": {
   "display_name": "AD_450_env",
   "language": "python",
   "name": "python3"
  },
  "language_info": {
   "codemirror_mode": {
    "name": "ipython",
    "version": 3
   },
   "file_extension": ".py",
   "mimetype": "text/x-python",
   "name": "python",
   "nbconvert_exporter": "python",
   "pygments_lexer": "ipython3",
   "version": "3.10.16"
  }
 },
 "nbformat": 4,
 "nbformat_minor": 2
}
