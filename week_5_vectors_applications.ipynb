{
 "cells": [
  {
   "cell_type": "code",
   "execution_count": 2,
   "metadata": {},
   "outputs": [],
   "source": [
    "import numpy as np\n",
    "import numpy.typing as npt"
   ]
  },
  {
   "cell_type": "markdown",
   "metadata": {},
   "source": [
    "## 1. Vector Operations on Embeddings\n",
    "In class we learned about the classic word embedding example of the relationship between the concepts queen, king, women and man. \n",
    "\n",
    "For this problem you will work with dummy vector encodings in numpy to work through this concept in code.\n",
    "\n",
    "Given the below vector encodings of queen, women, and man create a vector encoding the concept of royalty and king.\n",
    "\n",
    "*Note: You must use vector operation on the existing vectors to create the new vectors*\n",
    "\n",
    "For 5 point extra credit create a 3D-plot showing the relationship between these vectors. These points will be added to your intial attempt and must be included in the intial attempt to recieve credit since you will likely get the solution in class."
   ]
  },
  {
   "cell_type": "code",
   "execution_count": 9,
   "metadata": {},
   "outputs": [],
   "source": [
    "queen = np.array([5, 6, 4])\n",
    "women = np.array([1, 3, 2])\n",
    "man = np.array([5, 5, 5])\n",
    "royalty = None\n",
    "king = None\n",
    "\n"
   ]
  },
  {
   "cell_type": "markdown",
   "metadata": {},
   "source": [
    "## 2. Vector Magnitude\n",
    "In class we learned the formula for vector magintude. \n",
    "\n",
    "Create your own implimentation of `vector_magnitude` not using `numpy.linalg.norm` but instead using vector operations in numpy. Use the test and example vectors to check your solution. "
   ]
  },
  {
   "cell_type": "code",
   "execution_count": null,
   "metadata": {},
   "outputs": [],
   "source": [
    "def vector_magnitude(np_vector: npt.NDArray) -> np.float64:\n",
    "    #Write your code here\n",
    "    return \n",
    "\n",
    "def test_vector_magnitude(np_vector: npt.NDArray) -> None:\n",
    "    if vector_magnitude(np_vector) == np.linalg.norm(np_vector):\n",
    "        print(f\"Test passed for {np_vector}\")\n",
    "    else:\n",
    "        print(f\"Test failed for {np_vector}\")\n",
    "\n",
    "\n",
    "d1_vector = np.array([5])\n",
    "d2_vector = np.array([3.2, 0.1])\n",
    "d3_vector = np.array([-2, 2, 2])\n",
    "d10_vector = np.random.randint(100, size=(10))\n",
    "\n",
    "test_vector_magnitude(d1_vector)\n",
    "test_vector_magnitude(d2_vector)\n",
    "test_vector_magnitude(d3_vector)\n",
    "test_vector_magnitude(d10_vector)"
   ]
  },
  {
   "cell_type": "markdown",
   "metadata": {},
   "source": [
    "## 3. Unit Vectors\n",
    "Using your implimentation of `vector_magnitude` above create a function `create_unit_vector` which creates a unit vector from a `np.array`. Create another function `test_create_unit_vector` following the pattern in `test_vector_magnitude` that tests the static vectors above with the corrisponding unit vectors defined below.\n",
    "\n",
    "Hint: Use np.allclose instead of == . Explain why this is needed."
   ]
  },
  {
   "cell_type": "code",
   "execution_count": 55,
   "metadata": {},
   "outputs": [],
   "source": [
    "d1_unit_vector = np.array([1.])\n",
    "d2_unit_vector = np.array([0.99951208, 0.03123475])\n",
    "d3_unit_vector = np.array([-0.57735027,  0.57735027,  0.57735027])\n",
    "\n",
    "#Impliment vector_magnitude and test_vector_magnitude here"
   ]
  },
  {
   "cell_type": "markdown",
   "metadata": {},
   "source": [
    "## 4. Dot Product\n",
    "Again there exists a function in numpy that calculates the dot product formula we learrned in class, `numpy.dot`. For this problem you will write your on implimentation of the dot product using the formula from class and basic vector operations. You will alo need to create a test to compare your implimentation to `numpy.dot` and create 3 test cases that follow the guidance below.\n",
    "\n",
    "1. The first test case should perform the dot product of a 3d vector with itself\n",
    "2. The second test case should include integers and floats\n",
    "3. For the third test case think of another edge case you might want to test against\n"
   ]
  },
  {
   "cell_type": "code",
   "execution_count": null,
   "metadata": {},
   "outputs": [],
   "source": []
  },
  {
   "cell_type": "markdown",
   "metadata": {},
   "source": [
    "## 5. Predictions with dot products\n",
    "Using linear regression we created the following model to predict the weight of a cat given the length and height. \n",
    "\n",
    "$$weight  = 0.23 * length + 1.07 * height + 3.412$$\n",
    "\n",
    "Impliment a function `predict_weight` which will take in a 2d vector of a cat's length and height and will output the predicted weight of the cat. \n",
    "\n",
    "Also create a function `prediction_error` which will take the predicted weight and the actual weight of the cat and give the absolute value of the error between the two.\n",
    "\n",
    "Use these functions to predict the weights of the cats below and figure out the error the predicted weights compared to the actual weights. Print out the results. "
   ]
  },
  {
   "cell_type": "code",
   "execution_count": null,
   "metadata": {},
   "outputs": [],
   "source": [
    "cat_1_array = np.array([28.57, 10.435])\n",
    "cat_1_actual_weight = 24.21\n",
    "\n",
    "cat_2_array = np.array([19.04, 6.93])\n",
    "cat_2_actual_weight = 13.831"
   ]
  },
  {
   "cell_type": "markdown",
   "metadata": {},
   "source": [
    "## 6. Linear Weighted Combinations\n",
    "In class I showed the below code for calculating linear weighted combinations. \n",
    "\n",
    "```\n",
    "l1 = 1\n",
    "l2 = 2\n",
    "l3 = -3\n",
    "v1 = np.array([4,5,1])\n",
    "v2 = np.array([-4,0,-4])\n",
    "v3 = np.array([1,3,2])\n",
    "l1*v1 + l2*v2 + l3*v3\n",
    "```\n",
    "\n",
    "Rewrite this code into a function called `linear_comb_loop` that will accept as input the scalars in a list and the vectors as elements in a list. Such that:\n",
    "\n",
    "```\n",
    "scalars_array = np.array([1, 2, -3])\n",
    "vectors_array = np.array([[4,5,1], [-4,0,-4], [1,3,2]])\n",
    "\n",
    "linear_comb_loop(scalars_array, vectors_array)\n",
    "```\n",
    "\n",
    "In this function use a for loop to implement the linear weighted combination operation. Initialize the output vector using np.zeros(). Confirm that you get the same result as in the previous code.\n",
    "\n",
    "For 5 point extra credit create a second implementation that vectorizes this solution. Run some test that will check which implementation runs faster. These points will be added to your intial attempt and must be included in the intial attempt to recieve credit since you will likely get the solution in class.\n"
   ]
  },
  {
   "cell_type": "code",
   "execution_count": null,
   "metadata": {},
   "outputs": [],
   "source": []
  },
  {
   "cell_type": "markdown",
   "metadata": {},
   "source": [
    "## 7. Create a Basis\n",
    "In this exercise, you will draw random points in subspaces. This will help reinforce the idea that subspaces comprise any linear weighted combination of the spanning vectors. Define a vector set containing one vector [1, 3]. Then create 100 numbers drawn randomly from a uniform distribution between −4 and +4. Those are your random scalars. Multiply the random scalars by the basis vector to create 100 random points in the subspace. Plot those points using `plot_vectors`.\n",
    "\n"
   ]
  },
  {
   "cell_type": "code",
   "execution_count": null,
   "metadata": {},
   "outputs": [],
   "source": []
  },
  {
   "cell_type": "code",
   "execution_count": 101,
   "metadata": {},
   "outputs": [],
   "source": [
    "import matplotlib.pyplot as plt\n",
    "\n",
    "def plot_vectors(vectors):\n",
    "    plt.scatter(*zip(*vectors))\n",
    "    plt.show()"
   ]
  },
  {
   "cell_type": "markdown",
   "metadata": {},
   "source": [
    "## 8. Extra Credit (10pts): Create a 3d Basis\n",
    "This problem will not be graded on the final attempt and is only extra credit on the intial attempt and one of the problems a student can present in class for their participation credit that week.\n",
    "These points will be added to your intial attempt and must be included in the intial attempt to recieve credit since you will likely get the solution in class.\n",
    "\n",
    "Next, repeat the procedure but using two vectors in 3 dimensional space: [3, 5, 1] and [0, 2, 2]. Note that you need 100 × 2 random scalars for 100 points and two vectors. The resulting random dots will be on a plane. Plot this vectors on a 3 dimensional graph.\n"
   ]
  },
  {
   "cell_type": "code",
   "execution_count": null,
   "metadata": {},
   "outputs": [],
   "source": []
  },
  {
   "cell_type": "markdown",
   "metadata": {},
   "source": [
    "## 9. Calculating Correlations \n",
    "\n",
    "Write two Python function that takes two vectors as input. The first one will calculate the Pearson correlation coefficient and the second cosine similarity value. Write code that follows the formulas presented in class; don’t simply call `np.corrcoef` and `spatial.distance.cosine`. \n",
    "\n",
    "Write the following tests:\n",
    "1. `test_persons` which will test that your implimentation of the Pearson's correlation coefficient matches `np.corrcoef`.\n",
    "2. `test_cosine` which will test that your implimentation of the cosine similarity value matches `spatial.distance.cosine`.\n",
    "3. A test which will check if your implimentation of the Pearson's correlation coefficient matches your implimentation of the cosine similarity value. \n",
    "\n",
    "\n",
    "Create two test cases:\n",
    "1. Mean centered vectors\n",
    "2. Non-mean centered vectors\n",
    "\n",
    "Run all three tests on the two test cases and describe what you find."
   ]
  },
  {
   "cell_type": "code",
   "execution_count": null,
   "metadata": {},
   "outputs": [],
   "source": []
  }
 ],
 "metadata": {
  "kernelspec": {
   "display_name": "AD_450_env",
   "language": "python",
   "name": "python3"
  },
  "language_info": {
   "codemirror_mode": {
    "name": "ipython",
    "version": 3
   },
   "file_extension": ".py",
   "mimetype": "text/x-python",
   "name": "python",
   "nbconvert_exporter": "python",
   "pygments_lexer": "ipython3",
   "version": "3.10.16"
  }
 },
 "nbformat": 4,
 "nbformat_minor": 2
}
