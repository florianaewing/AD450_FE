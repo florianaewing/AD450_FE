{
 "cells": [
  {
   "cell_type": "markdown",
   "metadata": {},
   "source": [
    "# Intro to Pandas\n",
    "___\n",
    "\n",
    "**pandas** provides data structures and data manipulation tools designed for fast & easy data cleaning and analysis.\n",
    "\n",
    "pandas adopts array-based computing from NumPy, but is designed for **tabular** or **heterogenous** data.\n",
    "\n",
    "pandas has two primary data structures:\n",
    "\n",
    "- **Series** - one-dimensional array-like object with a sequence of values having the same datatype\n",
    "- **DataFrame** - rectangular table of data with ordered collection of columns, each of which can be a different value type"
   ]
  },
  {
   "cell_type": "code",
   "execution_count": 2,
   "metadata": {},
   "outputs": [],
   "source": [
    "#As allways we import pandas and numpy\n",
    "import pandas as pd\n",
    "import numpy as np"
   ]
  },
  {
   "cell_type": "markdown",
   "metadata": {},
   "source": [
    "### Series\n",
    "\n",
    "Has a sequence of values (all the same datatype) and an associated array of data labels called its **index**. If not specified otherwise, the index values are sequential integers.\n",
    "\n",
    "pandas can automatically determine datatype of values when a Series is created, but datatype can also be specified.\n",
    "\n",
    "A Series is like a fixed-length, ordered dict with a mapping of index values to data values.\n",
    "\n",
    "The array representation and index object of a Series can be accessed via its **values** and **index** attributes."
   ]
  },
  {
   "cell_type": "markdown",
   "metadata": {},
   "source": [
    "Problem 1: Create a series 4 numerical values. Print the series, the values and the index of the series."
   ]
  },
  {
   "cell_type": "code",
   "execution_count": null,
   "metadata": {},
   "outputs": [],
   "source": []
  },
  {
   "cell_type": "markdown",
   "metadata": {},
   "source": [
    "Problem 2: Create a new series with the same values but with string values for the index. Select and print out one of the values in the series with the index."
   ]
  },
  {
   "cell_type": "code",
   "execution_count": null,
   "metadata": {},
   "outputs": [],
   "source": []
  },
  {
   "cell_type": "markdown",
   "metadata": {},
   "source": [
    "Problem 3: You can also create a series from a python dict. Create a dict called `states_dict` with the state name as the key and the number as the value.\n",
    "'Ohio' 35000\n",
    "'Texas' 71000\n",
    "'Oregon' 16000 \n",
    "'Utah' 5000\n",
    "Use the dict `states_dict` to create a series called `states_series`."
   ]
  },
  {
   "cell_type": "code",
   "execution_count": null,
   "metadata": {},
   "outputs": [],
   "source": []
  },
  {
   "cell_type": "markdown",
   "metadata": {},
   "source": [
    "Problem 4: Updated the index of `state_series` to be the abbreviation of the state names. Do this in place."
   ]
  },
  {
   "cell_type": "code",
   "execution_count": null,
   "metadata": {},
   "outputs": [],
   "source": []
  },
  {
   "cell_type": "markdown",
   "metadata": {},
   "source": [
    "### DataFrame\n",
    "\n",
    "A pandas DataFrame represents a rectangular table of data and contains an ordered collection of columns, each of which can be a different value type.\n",
    "\n",
    "Sort of a dict of Series all sharing the same index.\n",
    "\n",
    "- DataFrames have both row and column indices\n",
    "- DataFrames are physically 2D, but can represent higher-dimensional data using hierarchical indexing\n",
    "- DataFrame rows are sometimes referred to as axis=0\n",
    "- DataFrame columns are sometimes referred to as axis=1\n",
    "\n",
    "\n",
    "You can create DataFrames from dicts as well. "
   ]
  },
  {
   "cell_type": "code",
   "execution_count": null,
   "metadata": {},
   "outputs": [],
   "source": [
    "data = {\n",
    "    'state': ['Ohio', 'Ohio', 'Ohio', 'Nevada', 'Nevada', 'Nevada'],\n",
    "    'year': [2000, 2001, 2002, 2001, 2002, 2003],\n",
    "    'pop': [1.5, 1.7, 3.6, 2.4, 2.9, 3.2]\n",
    "      }\n",
    "\n",
    "df = pd.DataFrame(data)\n",
    "df"
   ]
  },
  {
   "cell_type": "markdown",
   "metadata": {},
   "source": [
    "Problem 5: Update the index of the DataFrame df to be the words for each number. i.e. 1 -> one "
   ]
  },
  {
   "cell_type": "code",
   "execution_count": null,
   "metadata": {},
   "outputs": [],
   "source": []
  },
  {
   "cell_type": "markdown",
   "metadata": {},
   "source": [
    "Problem 6: Figure out two ways to access a column from df. Output the results. "
   ]
  },
  {
   "cell_type": "code",
   "execution_count": null,
   "metadata": {},
   "outputs": [],
   "source": []
  },
  {
   "cell_type": "markdown",
   "metadata": {},
   "source": [
    "Problem 7: Figure out two ways to access a row from df. Output the results. "
   ]
  },
  {
   "cell_type": "code",
   "execution_count": null,
   "metadata": {},
   "outputs": [],
   "source": []
  },
  {
   "cell_type": "markdown",
   "metadata": {},
   "source": [
    "Problem 8: Add a new column to your dataframe called 'rating' with the values `[5,4,3,2,1,0]`"
   ]
  },
  {
   "cell_type": "code",
   "execution_count": null,
   "metadata": {},
   "outputs": [],
   "source": []
  },
  {
   "cell_type": "markdown",
   "metadata": {},
   "source": [
    "Problem 9: Create another column called `nonsense` that is the rating multiplied by the pop.  "
   ]
  },
  {
   "cell_type": "code",
   "execution_count": null,
   "metadata": {},
   "outputs": [],
   "source": []
  },
  {
   "cell_type": "markdown",
   "metadata": {},
   "source": [
    "Problem 10: Create three series using using numpy.\n",
    "series_numerical: The values 0-4 with index a-e\n",
    "series_zeros: All zeros with index a-e\n",
    "series_random: 5 random numbers qith index a-3\n",
    "\n",
    "DataFrame called `numeric_df` from these three series. Each series will be a row and the column. "
   ]
  },
  {
   "cell_type": "code",
   "execution_count": 19,
   "metadata": {},
   "outputs": [],
   "source": []
  },
  {
   "cell_type": "markdown",
   "metadata": {},
   "source": [
    "Problem 11: Transpose the DataFrame `numeric_df` so that the series become columns instead of rows. Save this to a variable called `transposed_numeric_df`. Rename the columns to `numerical`, `zeros`, and `random`."
   ]
  },
  {
   "cell_type": "code",
   "execution_count": 30,
   "metadata": {},
   "outputs": [],
   "source": []
  },
  {
   "cell_type": "markdown",
   "metadata": {},
   "source": [
    "Problem 12: Output `transposed_numeric_df` ordered by `random` descending."
   ]
  },
  {
   "cell_type": "code",
   "execution_count": null,
   "metadata": {},
   "outputs": [],
   "source": []
  },
  {
   "cell_type": "markdown",
   "metadata": {},
   "source": [
    "Problem 13: Select all rows from `transposed_numeric_df` where the column `numerical` is greater than 2.  "
   ]
  },
  {
   "cell_type": "code",
   "execution_count": null,
   "metadata": {},
   "outputs": [],
   "source": []
  },
  {
   "cell_type": "markdown",
   "metadata": {},
   "source": [
    "Problem 14: Add a column called `random_5` that is the column random multiplied by 5. Select all rows from `transposed_numeric_df` where `numerical` is greater than `random_5`."
   ]
  },
  {
   "cell_type": "code",
   "execution_count": null,
   "metadata": {},
   "outputs": [],
   "source": []
  },
  {
   "cell_type": "markdown",
   "metadata": {},
   "source": [
    "Problem 15: Add a column to transposed_numberic_df called `even` that is True when `numerical` is even and `False` when `numerical` is odd. "
   ]
  },
  {
   "cell_type": "code",
   "execution_count": null,
   "metadata": {},
   "outputs": [],
   "source": []
  },
  {
   "cell_type": "markdown",
   "metadata": {},
   "source": [
    "Problem 16: Add a column called `even_odd` that has the value `odd` when `numerical` is odd and `even` when `numerical` is even."
   ]
  },
  {
   "cell_type": "code",
   "execution_count": null,
   "metadata": {},
   "outputs": [],
   "source": []
  },
  {
   "cell_type": "markdown",
   "metadata": {},
   "source": [
    "Problem 17: Print out the sum of all columns."
   ]
  },
  {
   "cell_type": "code",
   "execution_count": null,
   "metadata": {},
   "outputs": [],
   "source": []
  },
  {
   "cell_type": "markdown",
   "metadata": {},
   "source": [
    "Problem 18: Print out index of the row with the max value for each column. i.e. for `numerical` it will be the last row `e` because it has a value of 5. "
   ]
  },
  {
   "cell_type": "code",
   "execution_count": null,
   "metadata": {},
   "outputs": [],
   "source": []
  }
 ],
 "metadata": {
  "kernelspec": {
   "display_name": "base",
   "language": "python",
   "name": "python3"
  },
  "language_info": {
   "codemirror_mode": {
    "name": "ipython",
    "version": 3
   },
   "file_extension": ".py",
   "mimetype": "text/x-python",
   "name": "python",
   "nbconvert_exporter": "python",
   "pygments_lexer": "ipython3",
   "version": "3.12.4"
  }
 },
 "nbformat": 4,
 "nbformat_minor": 2
}
