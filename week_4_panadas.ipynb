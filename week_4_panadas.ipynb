{
 "cells": [
  {
   "cell_type": "markdown",
   "metadata": {},
   "source": [
    "# Intro to Pandas\n",
    "___\n",
    "\n",
    "**pandas** provides data structures and data manipulation tools designed for fast & easy data cleaning and analysis.\n",
    "\n",
    "pandas adopts array-based computing from NumPy, but is designed for **tabular** or **heterogenous** data.\n",
    "\n",
    "pandas has two primary data structures:\n",
    "\n",
    "- **Series** - one-dimensional array-like object with a sequence of values having the same datatype\n",
    "- **DataFrame** - rectangular table of data with ordered collection of columns, each of which can be a different value type"
   ]
  },
  {
   "cell_type": "code",
   "execution_count": 304,
   "metadata": {},
   "outputs": [],
   "source": [
    "#As allways we import pandas and numpy\n",
    "import pandas as pd\n",
    "import numpy as np"
   ]
  },
  {
   "cell_type": "markdown",
   "metadata": {},
   "source": [
    "### Series\n",
    "\n",
    "Has a sequence of values (all the same datatype) and an associated array of data labels called its **index**. If not specified otherwise, the index values are sequential integers.\n",
    "\n",
    "pandas can automatically determine datatype of values when a Series is created, but datatype can also be specified.\n",
    "\n",
    "A Series is like a fixed-length, ordered dict with a mapping of index values to data values.\n",
    "\n",
    "The array representation and index object of a Series can be accessed via its **values** and **index** attributes."
   ]
  },
  {
   "cell_type": "markdown",
   "metadata": {},
   "source": [
    "Problem 1: Create a series 4 numerical values. Print the series, the values and the index of the series."
   ]
  },
  {
   "cell_type": "code",
   "execution_count": 305,
   "metadata": {},
   "outputs": [
    {
     "name": "stdout",
     "output_type": "stream",
     "text": [
      "Series:\n",
      "0    10\n",
      "1    20\n",
      "2    30\n",
      "3    40\n",
      "dtype: int64\n",
      "\n",
      "Values: [10 20 30 40]\n",
      "Index: [0, 1, 2, 3]\n",
      "\n"
     ]
    }
   ],
   "source": [
    "data = pd.Series([10,20,30,40])\n",
    "\n",
    "print(\"Series:\")\n",
    "print(data)\n",
    "\n",
    "print(\"\\nValues:\", data.values)\n",
    "\n",
    "#print(data.index)\n",
    "#List converision for readability\n",
    "print(\"Index:\", data.index.tolist()) \n",
    "print()"
   ]
  },
  {
   "cell_type": "markdown",
   "metadata": {},
   "source": [
    "Problem 2: Create a new series with the same values but with string values for the index. Select and print out one of the values in the series with the index."
   ]
  },
  {
   "cell_type": "code",
   "execution_count": 306,
   "metadata": {},
   "outputs": [
    {
     "name": "stdout",
     "output_type": "stream",
     "text": [
      "Series:\n",
      "a    10\n",
      "b    20\n",
      "c    30\n",
      "d    40\n",
      "dtype: int64\n",
      "\n",
      "\n",
      "Value at index 'b': 20\n",
      "\n"
     ]
    }
   ],
   "source": [
    "data = pd.Series([10,20,30,40], index=[\"a\", \"b\", \"c\", \"d\"])\n",
    "\n",
    "print(\"Series:\")\n",
    "print(data)\n",
    "print()\n",
    "\n",
    "# Value by string index\n",
    "print(\"\\nValue at index 'b':\", data.loc[\"b\"])\n",
    "print()"
   ]
  },
  {
   "cell_type": "markdown",
   "metadata": {},
   "source": [
    "Problem 3: You can also create a series from a python dict. Create a dict called `states_dict` with the state name as the key and the number as the value.\n",
    "'Ohio' 35000\n",
    "'Texas' 71000\n",
    "'Oregon' 16000 \n",
    "'Utah' 5000\n",
    "Use the dict `states_dict` to create a series called `states_series`."
   ]
  },
  {
   "cell_type": "code",
   "execution_count": 307,
   "metadata": {},
   "outputs": [
    {
     "name": "stdout",
     "output_type": "stream",
     "text": [
      "States Series:\n",
      "Ohio      35000\n",
      "Texas     71000\n",
      "Oregon    16000\n",
      "Utah       5000\n",
      "dtype: int64\n",
      "\n"
     ]
    }
   ],
   "source": [
    "states_dict = {\n",
    "    'Ohio': 35000,\n",
    "    'Texas': 71000,\n",
    "    'Oregon': 16000,\n",
    "    'Utah': 5000\n",
    "}\n",
    "\n",
    "states_series = pd.Series(states_dict)\n",
    "\n",
    "print(\"States Series:\")\n",
    "print(states_series)\n",
    "print()"
   ]
  },
  {
   "cell_type": "markdown",
   "metadata": {},
   "source": [
    "Problem 4: Updated the index of `state_series` to be the abbreviation of the state names. Do this in place."
   ]
  },
  {
   "cell_type": "code",
   "execution_count": 308,
   "metadata": {},
   "outputs": [
    {
     "name": "stdout",
     "output_type": "stream",
     "text": [
      "Updated States Series:\n",
      "OH    35000\n",
      "TX    71000\n",
      "OR    16000\n",
      "UT     5000\n",
      "dtype: int64\n"
     ]
    }
   ],
   "source": [
    "states_series.index = ['OH', 'TX', 'OR', 'UT']\n",
    "print(\"Updated States Series:\")\n",
    "print(states_series)"
   ]
  },
  {
   "cell_type": "markdown",
   "metadata": {},
   "source": [
    "### DataFrame\n",
    "\n",
    "A pandas DataFrame represents a rectangular table of data and contains an ordered collection of columns, each of which can be a different value type.\n",
    "\n",
    "Sort of a dict of Series all sharing the same index.\n",
    "\n",
    "- DataFrames have both row and column indices\n",
    "- DataFrames are physically 2D, but can represent higher-dimensional data using hierarchical indexing\n",
    "- DataFrame rows are sometimes referred to as axis=0\n",
    "- DataFrame columns are sometimes referred to as axis=1\n",
    "\n",
    "\n",
    "You can create DataFrames from dicts as well. "
   ]
  },
  {
   "cell_type": "code",
   "execution_count": 309,
   "metadata": {},
   "outputs": [
    {
     "data": {
      "text/html": [
       "<div>\n",
       "<style scoped>\n",
       "    .dataframe tbody tr th:only-of-type {\n",
       "        vertical-align: middle;\n",
       "    }\n",
       "\n",
       "    .dataframe tbody tr th {\n",
       "        vertical-align: top;\n",
       "    }\n",
       "\n",
       "    .dataframe thead th {\n",
       "        text-align: right;\n",
       "    }\n",
       "</style>\n",
       "<table border=\"1\" class=\"dataframe\">\n",
       "  <thead>\n",
       "    <tr style=\"text-align: right;\">\n",
       "      <th></th>\n",
       "      <th>state</th>\n",
       "      <th>year</th>\n",
       "      <th>pop</th>\n",
       "    </tr>\n",
       "  </thead>\n",
       "  <tbody>\n",
       "    <tr>\n",
       "      <th>0</th>\n",
       "      <td>Ohio</td>\n",
       "      <td>2000</td>\n",
       "      <td>1.5</td>\n",
       "    </tr>\n",
       "    <tr>\n",
       "      <th>1</th>\n",
       "      <td>Ohio</td>\n",
       "      <td>2001</td>\n",
       "      <td>1.7</td>\n",
       "    </tr>\n",
       "    <tr>\n",
       "      <th>2</th>\n",
       "      <td>Ohio</td>\n",
       "      <td>2002</td>\n",
       "      <td>3.6</td>\n",
       "    </tr>\n",
       "    <tr>\n",
       "      <th>3</th>\n",
       "      <td>Nevada</td>\n",
       "      <td>2001</td>\n",
       "      <td>2.4</td>\n",
       "    </tr>\n",
       "    <tr>\n",
       "      <th>4</th>\n",
       "      <td>Nevada</td>\n",
       "      <td>2002</td>\n",
       "      <td>2.9</td>\n",
       "    </tr>\n",
       "    <tr>\n",
       "      <th>5</th>\n",
       "      <td>Nevada</td>\n",
       "      <td>2003</td>\n",
       "      <td>3.2</td>\n",
       "    </tr>\n",
       "  </tbody>\n",
       "</table>\n",
       "</div>"
      ],
      "text/plain": [
       "    state  year  pop\n",
       "0    Ohio  2000  1.5\n",
       "1    Ohio  2001  1.7\n",
       "2    Ohio  2002  3.6\n",
       "3  Nevada  2001  2.4\n",
       "4  Nevada  2002  2.9\n",
       "5  Nevada  2003  3.2"
      ]
     },
     "execution_count": 309,
     "metadata": {},
     "output_type": "execute_result"
    }
   ],
   "source": [
    "data = {\n",
    "    'state': ['Ohio', 'Ohio', 'Ohio', 'Nevada', 'Nevada', 'Nevada'],\n",
    "    'year': [2000, 2001, 2002, 2001, 2002, 2003],\n",
    "    'pop': [1.5, 1.7, 3.6, 2.4, 2.9, 3.2]\n",
    "      }\n",
    "\n",
    "df = pd.DataFrame(data)\n",
    "\n",
    "df"
   ]
  },
  {
   "cell_type": "markdown",
   "metadata": {},
   "source": [
    "Problem 5: Update the index of the DataFrame df to be the words for each number. i.e. 1 -> one "
   ]
  },
  {
   "cell_type": "code",
   "execution_count": 310,
   "metadata": {},
   "outputs": [
    {
     "name": "stdout",
     "output_type": "stream",
     "text": [
      "Updated DataFrame:\n",
      "        state  year  pop\n",
      "zero     Ohio  2000  1.5\n",
      "one      Ohio  2001  1.7\n",
      "two      Ohio  2002  3.6\n",
      "three  Nevada  2001  2.4\n",
      "four   Nevada  2002  2.9\n",
      "five   Nevada  2003  3.2\n"
     ]
    }
   ],
   "source": [
    "number_to_word = {\n",
    "    0: 'zero',\n",
    "    1: 'one',\n",
    "    2: 'two',\n",
    "    3: 'three',\n",
    "    4: 'four',\n",
    "    5: 'five',\n",
    "}\n",
    "\n",
    "df.index = df.index.map(number_to_word)\n",
    "print(\"Updated DataFrame:\")\n",
    "print(df)"
   ]
  },
  {
   "cell_type": "markdown",
   "metadata": {},
   "source": [
    "Problem 6: Figure out two ways to access a column from df. Output the results. "
   ]
  },
  {
   "cell_type": "code",
   "execution_count": 311,
   "metadata": {},
   "outputs": [
    {
     "name": "stdout",
     "output_type": "stream",
     "text": [
      "zero       Ohio\n",
      "one        Ohio\n",
      "two        Ohio\n",
      "three    Nevada\n",
      "four     Nevada\n",
      "five     Nevada\n",
      "Name: state, dtype: object\n"
     ]
    }
   ],
   "source": [
    "# w/dot notation\n",
    "state_column_dot = df.state\n",
    "print(state_column_dot)"
   ]
  },
  {
   "cell_type": "markdown",
   "metadata": {},
   "source": [
    "Problem 7: Figure out two ways to access a row from df. Output the results. "
   ]
  },
  {
   "cell_type": "code",
   "execution_count": 312,
   "metadata": {},
   "outputs": [
    {
     "name": "stdout",
     "output_type": "stream",
     "text": [
      "zero     2000\n",
      "one      2001\n",
      "two      2002\n",
      "three    2001\n",
      "four     2002\n",
      "five     2003\n",
      "Name: year, dtype: int64\n"
     ]
    }
   ],
   "source": [
    "# w/bracket notation\n",
    "# A general method that workds regardless of column name and is useful when \n",
    "# column names contain spaces or special characters. This method is flexible\n",
    "# and works for all column names, providing a general aprproach to accessing\n",
    "# some row from the Data Frame.  \n",
    "year_column_bracket = df['year']\n",
    "print(year_column_bracket)"
   ]
  },
  {
   "cell_type": "markdown",
   "metadata": {},
   "source": [
    "Problem 8: Add a new column to your dataframe called 'rating' with the values `[5,4,3,2,1,0]`"
   ]
  },
  {
   "cell_type": "code",
   "execution_count": 313,
   "metadata": {},
   "outputs": [
    {
     "name": "stdout",
     "output_type": "stream",
     "text": [
      "Updated DataFrame\n",
      "        state  year  pop  rating\n",
      "zero     Ohio  2000  1.5       5\n",
      "one      Ohio  2001  1.7       4\n",
      "two      Ohio  2002  3.6       3\n",
      "three  Nevada  2001  2.4       2\n",
      "four   Nevada  2002  2.9       1\n",
      "five   Nevada  2003  3.2       0\n"
     ]
    }
   ],
   "source": [
    "df['rating'] = [5, 4, 3, 2, 1, 0]\n",
    "print(\"Updated DataFrame\")\n",
    "print(df)"
   ]
  },
  {
   "cell_type": "markdown",
   "metadata": {},
   "source": [
    "Problem 9: Create another column called `nonsense` that is the rating multiplied by the pop.  "
   ]
  },
  {
   "cell_type": "code",
   "execution_count": 314,
   "metadata": {},
   "outputs": [
    {
     "name": "stdout",
     "output_type": "stream",
     "text": [
      "        state  year  pop  rating  nonsense\n",
      "zero     Ohio  2000  1.5       5       7.5\n",
      "one      Ohio  2001  1.7       4       6.8\n",
      "two      Ohio  2002  3.6       3      10.8\n",
      "three  Nevada  2001  2.4       2       4.8\n",
      "four   Nevada  2002  2.9       1       2.9\n",
      "five   Nevada  2003  3.2       0       0.0\n"
     ]
    }
   ],
   "source": [
    "df['nonsense'] = df['rating'] * df['pop']\n",
    "print(df)"
   ]
  },
  {
   "cell_type": "markdown",
   "metadata": {},
   "source": [
    "Problem 10: Create three series using using numpy.\n",
    "series_numerical: The values 0-4 with index a-e\n",
    "series_zeros: All zeros with index a-e\n",
    "series_random: 5 random numbers qith index a-3\n",
    "\n",
    "DataFrame called `numeric_df` from these three series. Each series will be a row and the column. "
   ]
  },
  {
   "cell_type": "code",
   "execution_count": 315,
   "metadata": {},
   "outputs": [
    {
     "name": "stdout",
     "output_type": "stream",
     "text": [
      "          a         b         c         d         e\n",
      "0  0.000000  1.000000  2.000000  3.000000  4.000000\n",
      "1  0.000000  0.000000  0.000000  0.000000  0.000000\n",
      "2  0.307946  0.190624  0.346892  0.818972  0.726278\n"
     ]
    }
   ],
   "source": [
    "series_numerical = pd.Series(np.arange(5), index=['a', 'b', 'c', 'd', 'e'])\n",
    "series_zeros = pd.Series(np.zeros(5), index=['a', 'b', 'c', 'd', 'e'])\n",
    "series_random = pd.Series(np.random.rand(5), index=['a', 'b', 'c', 'd', 'e'])\n",
    "\n",
    "numeric_df = pd.DataFrame([series_numerical, series_zeros, series_random])\n",
    "\n",
    "print(numeric_df)"
   ]
  },
  {
   "cell_type": "markdown",
   "metadata": {},
   "source": [
    "Problem 11: Transpose the DataFrame `numeric_df` so that the series become columns instead of rows. Save this to a variable called `transposed_numeric_df`. Rename the columns to `numerical`, `zeros`, and `random`."
   ]
  },
  {
   "cell_type": "code",
   "execution_count": 316,
   "metadata": {},
   "outputs": [
    {
     "name": "stdout",
     "output_type": "stream",
     "text": [
      "   numerical  zeros    random\n",
      "a        0.0    0.0  0.307946\n",
      "b        1.0    0.0  0.190624\n",
      "c        2.0    0.0  0.346892\n",
      "d        3.0    0.0  0.818972\n",
      "e        4.0    0.0  0.726278\n"
     ]
    }
   ],
   "source": [
    "transposed_numeric_df = numeric_df.T\n",
    "transposed_numeric_df.columns = ['numerical', 'zeros', 'random']\n",
    "\n",
    "print(transposed_numeric_df)"
   ]
  },
  {
   "cell_type": "markdown",
   "metadata": {},
   "source": [
    "Problem 12: Output `transposed_numeric_df` ordered by `random` descending."
   ]
  },
  {
   "cell_type": "code",
   "execution_count": 317,
   "metadata": {},
   "outputs": [
    {
     "name": "stdout",
     "output_type": "stream",
     "text": [
      "   numerical  zeros    random\n",
      "d        3.0    0.0  0.818972\n",
      "e        4.0    0.0  0.726278\n",
      "c        2.0    0.0  0.346892\n",
      "a        0.0    0.0  0.307946\n",
      "b        1.0    0.0  0.190624\n"
     ]
    }
   ],
   "source": [
    "sorted_transposed_df = transposed_numeric_df.sort_values(by='random', ascending=False)\n",
    "\n",
    "print(sorted_transposed_df)"
   ]
  },
  {
   "cell_type": "markdown",
   "metadata": {},
   "source": [
    "Problem 13: Select all rows from `transposed_numeric_df` where the column `numerical` is greater than 2.  "
   ]
  },
  {
   "cell_type": "code",
   "execution_count": 318,
   "metadata": {},
   "outputs": [
    {
     "name": "stdout",
     "output_type": "stream",
     "text": [
      "   numerical  zeros    random\n",
      "d        3.0    0.0  0.818972\n",
      "e        4.0    0.0  0.726278\n"
     ]
    }
   ],
   "source": [
    "filtered_df = transposed_numeric_df[transposed_numeric_df['numerical'] > 2]\n",
    "\n",
    "print(filtered_df)"
   ]
  },
  {
   "cell_type": "markdown",
   "metadata": {},
   "source": [
    "Problem 14: Add a column called `random_5` that is the column random multiplied by 5. Select all rows from `transposed_numeric_df` where `numerical` is greater than `random_5`."
   ]
  },
  {
   "cell_type": "code",
   "execution_count": 319,
   "metadata": {},
   "outputs": [
    {
     "name": "stdout",
     "output_type": "stream",
     "text": [
      "   numerical  zeros    random  random_5\n",
      "b        1.0    0.0  0.190624  0.953120\n",
      "c        2.0    0.0  0.346892  1.734458\n",
      "e        4.0    0.0  0.726278  3.631389\n"
     ]
    }
   ],
   "source": [
    "transposed_numeric_df['random_5'] = transposed_numeric_df['random'] * 5\n",
    "filtered_df = transposed_numeric_df[transposed_numeric_df['numerical'] > transposed_numeric_df['random_5']]\n",
    "\n",
    "print(filtered_df)"
   ]
  },
  {
   "cell_type": "markdown",
   "metadata": {},
   "source": [
    "Problem 15: Add a column to transposed_numberic_df called `even` that is True when `numerical` is even and `False` when `numerical` is odd. "
   ]
  },
  {
   "cell_type": "code",
   "execution_count": 320,
   "metadata": {},
   "outputs": [
    {
     "name": "stdout",
     "output_type": "stream",
     "text": [
      "   numerical  zeros    random  random_5   even\n",
      "a        0.0    0.0  0.307946  1.539730   True\n",
      "b        1.0    0.0  0.190624  0.953120  False\n",
      "c        2.0    0.0  0.346892  1.734458   True\n",
      "d        3.0    0.0  0.818972  4.094860  False\n",
      "e        4.0    0.0  0.726278  3.631389   True\n"
     ]
    }
   ],
   "source": [
    "transposed_numeric_df['even'] = transposed_numeric_df['numerical'] % 2 == 0\n",
    "\n",
    "print(transposed_numeric_df)"
   ]
  },
  {
   "cell_type": "markdown",
   "metadata": {},
   "source": [
    "Problem 16: Add a column called `even_odd` that has the value `odd` when `numerical` is odd and `even` when `numerical` is even."
   ]
  },
  {
   "cell_type": "code",
   "execution_count": 321,
   "metadata": {},
   "outputs": [
    {
     "name": "stdout",
     "output_type": "stream",
     "text": [
      "   numerical  zeros    random  random_5   even even_odd\n",
      "a        0.0    0.0  0.307946  1.539730   True     even\n",
      "b        1.0    0.0  0.190624  0.953120  False      odd\n",
      "c        2.0    0.0  0.346892  1.734458   True     even\n",
      "d        3.0    0.0  0.818972  4.094860  False      odd\n",
      "e        4.0    0.0  0.726278  3.631389   True     even\n"
     ]
    }
   ],
   "source": [
    "transposed_numeric_df['even_odd'] = transposed_numeric_df['numerical'].apply(lambda x: 'even' if x % 2 == 0 else 'odd')\n",
    "\n",
    "print(transposed_numeric_df)"
   ]
  },
  {
   "cell_type": "markdown",
   "metadata": {},
   "source": [
    "Problem 17: Print out the sum of all columns."
   ]
  },
  {
   "cell_type": "code",
   "execution_count": 322,
   "metadata": {},
   "outputs": [
    {
     "name": "stdout",
     "output_type": "stream",
     "text": [
      "numerical    10.000000\n",
      "zeros         0.000000\n",
      "random        2.390711\n",
      "random_5     11.953557\n",
      "dtype: float64\n"
     ]
    }
   ],
   "source": [
    "#all columns\n",
    "column_sums = transposed_numeric_df.sum()\n",
    "\n",
    "#numeric columns only\n",
    "numerical_column_sums = transposed_numeric_df.select_dtypes(include='number').sum()\n",
    "\n",
    "#print(column_sums)\n",
    "print(numerical_column_sums)"
   ]
  },
  {
   "cell_type": "markdown",
   "metadata": {},
   "source": [
    "Problem 18: Print out index of the row with the max value for each column. i.e. for `numerical` it will be the last row `e` because it has a value of 5. "
   ]
  },
  {
   "cell_type": "code",
   "execution_count": 323,
   "metadata": {},
   "outputs": [
    {
     "name": "stdout",
     "output_type": "stream",
     "text": [
      "numerical    e\n",
      "zeros        a\n",
      "random       d\n",
      "random_5     d\n",
      "even         a\n",
      "even_odd     b\n",
      "dtype: object\n"
     ]
    }
   ],
   "source": [
    "max_index_per_column = transposed_numeric_df.idxmax()\n",
    "\n",
    "print(max_index_per_column)"
   ]
  }
 ],
 "metadata": {
  "kernelspec": {
   "display_name": "Python 3",
   "language": "python",
   "name": "python3"
  },
  "language_info": {
   "codemirror_mode": {
    "name": "ipython",
    "version": 3
   },
   "file_extension": ".py",
   "mimetype": "text/x-python",
   "name": "python",
   "nbconvert_exporter": "python",
   "pygments_lexer": "ipython3",
   "version": "3.12.8"
  }
 },
 "nbformat": 4,
 "nbformat_minor": 2
}
