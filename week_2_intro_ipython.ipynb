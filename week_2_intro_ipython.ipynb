{
  "cells": [
    {
      "cell_type": "markdown",
      "metadata": {
        "id": "qJX1HwwaGYl0"
      },
      "source": [
        "# Intro to iPython and Python Review\n",
        "\n",
        "This week you will set up your install enviornment and practice using iPython notebooks. This will also be an each introduction into presenting solutions to students in class. "
      ]
    },
    {
      "cell_type": "markdown",
      "metadata": {
        "id": "Rk9uMHggFRh2"
      },
      "source": [
        "#### 1. Print two sentences.  Use only one print statement to do it and use the newline escape character between the two sentences. It should (without quotes) read.   \n",
        "\"My name is (your name).    \n",
        "I am a student at North Seattle College.\""
      ]
    },
    {
      "cell_type": "code",
      "execution_count": 2,
      "metadata": {
        "id": "BQybla17FRh5"
      },
      "outputs": [
        {
          "name": "stdout",
          "output_type": "stream",
          "text": [
            "My name is Florian \n",
            "I am a student at North Seattle College\n"
          ]
        }
      ],
      "source": [
        "print(\"My name is Florian \\nI am a student at North Seattle College\")"
      ]
    },
    {
      "cell_type": "markdown",
      "metadata": {
        "id": "eD1TT77_FRh8"
      },
      "source": [
        "#### 2. Define a variable called phone and insert a phone number without dashes. Print out    \n",
        "\"My phone number is (phone number here)\""
      ]
    },
    {
      "cell_type": "code",
      "execution_count": 7,
      "metadata": {
        "id": "P7QDyWncFRh8"
      },
      "outputs": [
        {
          "name": "stdout",
          "output_type": "stream",
          "text": [
            "My phone number is 3309788234\n"
          ]
        }
      ],
      "source": [
        "phone = 3309788234\n",
        "print(\"My phone number is\", phone)"
      ]
    },
    {
      "cell_type": "markdown",
      "metadata": {
        "id": "8wJrc6V6G29d"
      },
      "source": [
        "#### 3. Be sure to use the f functionality of printing. Save in a variable called phone a phone number with dashes and another variable with your name in it. Print out    \n",
        "\"Hello my name is (your name) and my phone number is (phone number with dashes)\""
      ]
    },
    {
      "cell_type": "code",
      "execution_count": 16,
      "metadata": {
        "id": "OnOau948FRh9"
      },
      "outputs": [
        {
          "name": "stdout",
          "output_type": "stream",
          "text": [
            "hello my name is florian and my phone number is  330-978-8234\n"
          ]
        }
      ],
      "source": [
        "name = \"florian\"\n",
        "phone = \"330-978-8234\"\n",
        "print(f\"hello my name is\", name,\"and my phone number is \", phone)"
      ]
    },
    {
      "cell_type": "markdown",
      "metadata": {
        "id": "L2ILAb5iHHsS"
      },
      "source": [
        "#### 4. Create variables for the month and year you will graduate in one line. \n",
        "#### Using the variables print out \"I graduate in (month) of (year).\"\n",
        "Don't forget the period."
      ]
    },
    {
      "cell_type": "code",
      "execution_count": 14,
      "metadata": {
        "id": "5x2rIFzRFRh9"
      },
      "outputs": [
        {
          "name": "stdout",
          "output_type": "stream",
          "text": [
            "I graduate in June of 2026 .\n"
          ]
        }
      ],
      "source": [
        "month = \"June\"\n",
        "year = 2026\n",
        "print(\"I graduate in\", month, \"of\", year,\".\")"
      ]
    },
    {
      "cell_type": "markdown",
      "metadata": {
        "id": "CbK-uSPsFRh-"
      },
      "source": [
        "### Mathematical\n"
      ]
    },
    {
      "cell_type": "markdown",
      "metadata": {
        "id": "x2IYlJHTJsYl"
      },
      "source": [
        "#### 5. Create a variable called ans and into it save the solution to 12 times 5 minus 3 divided by 2. Be sure you write in exactly that order. Print ans. Now write a comment underneath explaining what the TYPE of ans is at the end."
      ]
    },
    {
      "cell_type": "code",
      "execution_count": 20,
      "metadata": {
        "id": "OkyeAVPXFRh-"
      },
      "outputs": [
        {
          "name": "stdout",
          "output_type": "stream",
          "text": [
            "<class 'float'>\n"
          ]
        }
      ],
      "source": [
        "ans = 12*5-3/2\n",
        "print(ans)\n",
        "#float"
      ]
    },
    {
      "cell_type": "markdown",
      "metadata": {
        "id": "TAqSrXZMFRh_"
      },
      "source": [
        "### Decision Structures"
      ]
    },
    {
      "cell_type": "markdown",
      "metadata": {
        "id": "aR5DPLU6KaiX"
      },
      "source": [
        "#### 6. Create a variable to hold the string \"October\". Now write an if/else statement that tests if that variable says \"October\". If it does, print \"31 days\". If it does not, print \"30 days\""
      ]
    },
    {
      "cell_type": "code",
      "execution_count": null,
      "metadata": {
        "id": "Lo-LEy8bKYmG"
      },
      "outputs": [],
      "source": [
        "x = \"October\"\n",
        "if x == \"October\":\n",
        "    print(\"31 days\")\n",
        "else:\n",
        "    print(\"30 days\")"
      ]
    },
    {
      "cell_type": "markdown",
      "metadata": {
        "id": "t-iUVyOQ3KYs"
      },
      "source": [
        "#### 7. Create a variable and save 140 into it. Now create a decision structure using if, elif and else that does the following:    \n",
        "If the number is greater than 150, print \"greater than 150\"   \n",
        "If the number if greater than 100 but less than 151, print \"between 100 and 150\"   \n",
        "If the number is less than 100, print \"less than 100\"        "
      ]
    },
    {
      "cell_type": "code",
      "execution_count": 22,
      "metadata": {
        "id": "qscUkh813QKH"
      },
      "outputs": [
        {
          "name": "stdout",
          "output_type": "stream",
          "text": [
            "between 100 and 150\n"
          ]
        }
      ],
      "source": [
        "x = 140\n",
        "if x > 150:\n",
        "    print(\"greater than 150\")\n",
        "elif x > 100 or x < 151:\n",
        "    print(\"between 100 and 150\")\n",
        "else:\n",
        "    print(\"less than 100\")\n"
      ]
    },
    {
      "cell_type": "markdown",
      "metadata": {
        "id": "1xpf9181KCS3"
      },
      "source": [
        "#### 8. Create a variable to hold the number 70. Now create two if statements:\n",
        "#### 1st: if the number is divisible by 5 and by 10, then print \"Number is divisible by 5 and 10.\"    \n",
        "#### 2nd: if the number is divisible by 7 or by 2, then print \"Number is divisible by 7 or by 2\""
      ]
    },
    {
      "cell_type": "code",
      "execution_count": null,
      "metadata": {
        "id": "1vxg4nMbFRh_"
      },
      "outputs": [],
      "source": [
        "x = 70\n",
        "if x % 5 == 0 and x % 10 == 0:\n",
        "    \"Number is divisible by 5 and 10\"\n",
        "if x % 7 or x % 2:\n",
        "    \"Number is divisible by 7 or by 2\""
      ]
    },
    {
      "cell_type": "markdown",
      "metadata": {
        "id": "PlBuSSgOwgyt"
      },
      "source": [
        "#### 9. Create a FOR loop that prints the numbers 1 through 100 that are divisible by 7."
      ]
    },
    {
      "cell_type": "code",
      "execution_count": 24,
      "metadata": {
        "id": "JY_Ci5v-FRiA"
      },
      "outputs": [
        {
          "name": "stdout",
          "output_type": "stream",
          "text": [
            "7\n",
            "14\n",
            "21\n",
            "28\n",
            "35\n",
            "42\n",
            "49\n",
            "56\n",
            "63\n",
            "70\n",
            "77\n",
            "84\n",
            "91\n",
            "98\n"
          ]
        }
      ],
      "source": [
        "for x in range(1,100):\n",
        "    if x % 7 == 0: \n",
        "        print(x)"
      ]
    },
    {
      "cell_type": "markdown",
      "metadata": {
        "id": "1TOwGOAYx958"
      },
      "source": [
        "#### 10. Use a while loop to print all numbers from 1 to 10 which are divisible by 3. Print the numbers next to each other with a space in between them. Use a while loop and if statement. Sum up the numbers and printt he sum on a new line."
      ]
    },
    {
      "cell_type": "code",
      "execution_count": 32,
      "metadata": {
        "id": "4a1D64hpFRiA"
      },
      "outputs": [
        {
          "name": "stdout",
          "output_type": "stream",
          "text": [
            "0 3 6 9 \n",
            "Sum: 18\n"
          ]
        }
      ],
      "source": [
        "sum = 0\n",
        "x = 0\n",
        "while x <= 10:\n",
        "    if x % 3 == 0:\n",
        "        print(x, end=\" \")\n",
        "        sum += x\n",
        "    x += 1\n",
        "print(f\"\\nSum: {sum}\")\n",
        "    \n"
      ]
    },
    {
      "cell_type": "markdown",
      "metadata": {
        "id": "f6ULW1En1BIZ"
      },
      "source": [
        "#### 11. You will be creating a nested loop like we did in class but with a twist. Ultimately, you want 5 sets to print, each one with the output \"Set : (set number)\" each time a new set is looped into. Then before you print all the numbers in that set, you want to test if the number is divisible by 2. If it is, print a string 5 times that looks like this: \"Student (number)\".  So it would have 5 sets... some of them would have strings printed in them, some would not. The ones that would have strings in them would show output like:\n",
        "\"    \n",
        "Set: 1    \n",
        "Set: 2    \n",
        "Student 1    \n",
        "Student 2    \n",
        "Student 3    \n",
        "Student 4    \n",
        "Student 5    \n",
        "Set: 3     \n",
        "...\"    "
      ]
    },
    {
      "cell_type": "code",
      "execution_count": 5,
      "metadata": {
        "id": "ntBnYxzi1RPc"
      },
      "outputs": [
        {
          "name": "stdout",
          "output_type": "stream",
          "text": [
            "Set: 1\n",
            "Set: 2\n",
            "Student 1\n",
            "Student 2\n",
            "Student 3\n",
            "Student 4\n",
            "Student 5\n",
            "Set: 3\n",
            "Set: 4\n",
            "Student 1\n",
            "Student 2\n",
            "Student 3\n",
            "Student 4\n",
            "Student 5\n",
            "Set: 5\n"
          ]
        }
      ],
      "source": [
        "for set_number in range(1, 6):\n",
        "    print(f\"Set: {set_number}\")  # Print set number\n",
        "    \n",
        "    if set_number % 2 == 0:\n",
        "        for student_number in range(1, 6):\n",
        "            print(f\"Student {student_number}\")"
      ]
    },
    {
      "cell_type": "markdown",
      "metadata": {
        "id": "572WT7cjzaqR"
      },
      "source": [
        "#### 12. Create a variable called school to hold the string \"Hogwarts\". Create two more variables, the first (call it first) and it will slice out the \"Hog\" and the other (call it second) will slice out the \"warts\" from the first variable. (Do not just save the strings \"Hog and \"warts\" into these two variables!) Now print first and second and then print the last letter of school. "
      ]
    },
    {
      "cell_type": "code",
      "execution_count": 38,
      "metadata": {
        "id": "lppms8ctzfRI"
      },
      "outputs": [
        {
          "name": "stdout",
          "output_type": "stream",
          "text": [
            "warts Hog\n",
            "s\n"
          ]
        }
      ],
      "source": [
        "school = \"Hogwarts\"\n",
        "first = school.strip(\"Hog\")\n",
        "second = school.strip(\"warts\")\n",
        "print(first, second)\n",
        "print(school[-1])\n"
      ]
    },
    {
      "cell_type": "markdown",
      "metadata": {
        "id": "6ATPH4fV0fH6"
      },
      "source": [
        "#### 13. Create a list called chars and save these strings in: Thor, She-Hulk, Loki.  Now use a FOR loop to print each item as a concatenation of the string: \" is a character in the Marvel Cinematic Universe..\"  So the output will be:\n",
        "Thor is a character in the Marvel Cinematic Universe.\n",
        "She-Hulk is a character in the Marvel Cinematic Universe.\n",
        "Loki is a character in the Marvel Cinematic Universe."
      ]
    },
    {
      "cell_type": "code",
      "execution_count": 40,
      "metadata": {
        "id": "zw2NezoM0zfl"
      },
      "outputs": [
        {
          "name": "stdout",
          "output_type": "stream",
          "text": [
            "Thor is a character in the Marvel Cinematic Universe.\n",
            "She-Hulk is a character in the Marvel Cinematic Universe.\n",
            "Loki is a character in the Marvel Cinematic Universe.\n"
          ]
        }
      ],
      "source": [
        "chars = [\"Thor\", \"She-Hulk\",\"Loki\"]\n",
        "for x in chars:\n",
        "    print(x + \" is a character in the Marvel Cinematic Universe.\")"
      ]
    },
    {
      "cell_type": "markdown",
      "metadata": {
        "id": "zJtqeA5T1Yxa"
      },
      "source": [
        "#### 14. Create a nested list called months. It will be a list with 6 lists within it. In each nested list will be the name of a month as a string and then the number of days it has. Create this using the first 6 months. Now use a loop with range and len function to print the following string format on each iteration:    \n",
        "\"January has 31 days\"  .... (month name) has (month days) days."
      ]
    },
    {
      "cell_type": "code",
      "execution_count": 41,
      "metadata": {
        "id": "rbyZif9a1b2V"
      },
      "outputs": [
        {
          "name": "stdout",
          "output_type": "stream",
          "text": [
            "January has 31 days\n",
            "February has 28 days\n",
            "March has 31 days\n",
            "April has 30 days\n",
            "May has 31 days\n",
            "June has 30 days\n"
          ]
        }
      ],
      "source": [
        "months = [\n",
        "    [\"January\", 31],\n",
        "    [\"February\", 28],\n",
        "    [\"March\", 31],\n",
        "    [\"April\", 30],\n",
        "    [\"May\", 31],\n",
        "    [\"June\", 30]\n",
        "]\n",
        "\n",
        "for x in range(len(months)):\n",
        "    month = months[x][0]\n",
        "    days = months[x][1]\n",
        "    print(f\"{month} has {days} days\")\n"
      ]
    },
    {
      "cell_type": "markdown",
      "metadata": {
        "id": "R1okOyL22r6D"
      },
      "source": [
        "#### 15. Create a dictionary called dog that hold the data below. Print it. Then print the value of the Breed key. Then use the values in the dictionary to print out the string: \"The Corgi is expected to live about 13 years.\"    \n",
        "Data:     \n",
        "Breed = Corgi   \n",
        "Age Exp. = 13   \n",
        "Type = Cattle herding"
      ]
    },
    {
      "cell_type": "code",
      "execution_count": 42,
      "metadata": {
        "id": "p0YE0nqs4Hcz"
      },
      "outputs": [
        {
          "name": "stdout",
          "output_type": "stream",
          "text": [
            "{'Breed': 'Corgi', 'Age Exp.': 13, 'Type': 'Cattle herding'}\n",
            "Corgi\n",
            "The Corgi is expected to live about 13 years.\n"
          ]
        }
      ],
      "source": [
        "dog = {\n",
        "    \"Breed\": \"Corgi\",\n",
        "    \"Age Exp.\": 13,\n",
        "    \"Type\": \"Cattle herding\"\n",
        "}\n",
        "\n",
        "print(dog)\n",
        "print(dog[\"Breed\"])\n",
        "print(f\"The {dog['Breed']} is expected to live about {dog['Age Exp.']} years.\")\n"
      ]
    },
    {
      "cell_type": "markdown",
      "metadata": {},
      "source": [
        "#### 16. In an external file named AD450_math create a function called `add` that adds two numbers together. Import the function from the module and use it to output the result of 2 + 2."
      ]
    },
    {
      "cell_type": "code",
      "execution_count": 1,
      "metadata": {},
      "outputs": [
        {
          "data": {
            "text/plain": [
              "4"
            ]
          },
          "execution_count": 1,
          "metadata": {},
          "output_type": "execute_result"
        }
      ],
      "source": [
        "import AD450_math\n",
        "\n",
        "AD450_math.add(2,2)"
      ]
    },
    {
      "cell_type": "markdown",
      "metadata": {},
      "source": [
        "#### 17. Next do the following:\n",
        "1. Run the first cell with `AD450_math.multiply(2, 2)`. Confirm the function does exist in your module. You'll leave this error in your submission.\n",
        "2. Write the code for `multiply` in `AD450_math`.\n",
        "3. Add code to the next cell to reload the module. You must do this without restarting your notebook.\n",
        "4. Run the final cell with the reloaded module. "
      ]
    },
    {
      "cell_type": "code",
      "execution_count": 2,
      "metadata": {},
      "outputs": [
        {
          "ename": "AttributeError",
          "evalue": "module 'AD450_math' has no attribute 'multiply'",
          "output_type": "error",
          "traceback": [
            "\u001b[1;31m---------------------------------------------------------------------------\u001b[0m",
            "\u001b[1;31mAttributeError\u001b[0m                            Traceback (most recent call last)",
            "Cell \u001b[1;32mIn[2], line 2\u001b[0m\n\u001b[0;32m      1\u001b[0m \u001b[38;5;66;03m# Cell with import error\u001b[39;00m\n\u001b[1;32m----> 2\u001b[0m \u001b[43mAD450_math\u001b[49m\u001b[38;5;241;43m.\u001b[39;49m\u001b[43mmultiply\u001b[49m(\u001b[38;5;241m2\u001b[39m, \u001b[38;5;241m2\u001b[39m)\n",
            "\u001b[1;31mAttributeError\u001b[0m: module 'AD450_math' has no attribute 'multiply'"
          ]
        }
      ],
      "source": [
        "# Cell with import error\n",
        "AD450_math.multiply(2, 2)"
      ]
    },
    {
      "cell_type": "code",
      "execution_count": null,
      "metadata": {},
      "outputs": [],
      "source": [
        "# Reload cell"
      ]
    },
    {
      "cell_type": "code",
      "execution_count": 2,
      "metadata": {},
      "outputs": [
        {
          "data": {
            "text/plain": [
              "4"
            ]
          },
          "execution_count": 2,
          "metadata": {},
          "output_type": "execute_result"
        }
      ],
      "source": [
        "# Cell with correct output \n",
        "import AD450_math\n",
        "AD450_math.multiply(2, 2)"
      ]
    },
    {
      "cell_type": "markdown",
      "metadata": {},
      "source": [
        "#### 18. Complet the following steps:\n",
        "1. Create a variable `a = 1`\n",
        "2. In another cell print out the value stored in `a`\n",
        "3. Set `a = 4`\n",
        "4. Rerun the cell that printed out `a` in step 2\n",
        "5. Explain in class what happened any why this could lead to issues when working with notebooks"
      ]
    },
    {
      "cell_type": "code",
      "execution_count": 1,
      "metadata": {},
      "outputs": [],
      "source": [
        "# Create a\n",
        "a = 1"
      ]
    },
    {
      "cell_type": "code",
      "execution_count": 4,
      "metadata": {},
      "outputs": [
        {
          "name": "stdout",
          "output_type": "stream",
          "text": [
            "4\n"
          ]
        }
      ],
      "source": [
        "# Print a\n",
        "print(a)"
      ]
    },
    {
      "cell_type": "code",
      "execution_count": 3,
      "metadata": {},
      "outputs": [],
      "source": [
        "# Set a to 4\n",
        "a = 4"
      ]
    },
    {
      "cell_type": "markdown",
      "metadata": {},
      "source": [
        "The value of a is globally reset across each cell, so reusing a in this scenario sould cause problems later on if the value of a is supposed to remain 1 instead of for for some section of the program. "
      ]
    }
  ],
  "metadata": {
    "colab": {
      "provenance": []
    },
    "kernelspec": {
      "display_name": "Python 3",
      "language": "python",
      "name": "python3"
    },
    "language_info": {
      "codemirror_mode": {
        "name": "ipython",
        "version": 3
      },
      "file_extension": ".py",
      "mimetype": "text/x-python",
      "name": "python",
      "nbconvert_exporter": "python",
      "pygments_lexer": "ipython3",
      "version": "3.12.8"
    }
  },
  "nbformat": 4,
  "nbformat_minor": 0
}
