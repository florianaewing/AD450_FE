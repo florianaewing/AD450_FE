{
 "cells": [
  {
   "cell_type": "markdown",
   "metadata": {},
   "source": [
    "# Week 8 Overview\n",
    "\n",
    "This week will be a mix of data joining/merging problems and linear algebra. \n",
    "The first 5 problems are data cleaning and the final 4 problems are linear algebra. "
   ]
  },
  {
   "cell_type": "markdown",
   "metadata": {},
   "source": [
    "There are multiple ways to combine data. These methods are common cross multiple languages like pandas, SQL, and R. At times the naming is different but the general concepts apply. \n",
    "\n",
    "### **Joining or Merging**\n",
    "This is a process of combining two datasets by adding the columns of one dataset to the other by some logical relationship between the columns. \n",
    "\n",
    "In SQL we call this joining but pandas has two functions:\n",
    "\n",
    "**merge** - The default behavor for merge is to combine on columns matching.\n",
    "\n",
    "**join** - The default behavor for join is to combine on the column index matching. \n",
    "\n",
    "Often times I will colloquially use the word \"join\" for either merging or joining in pandas. \n",
    "\n",
    "Left Dataset\n",
    "| key    | value |\n",
    "| -------- | ------- |\n",
    "| A1  | $250    |\n",
    "| A2 | $80     |\n",
    "| A3    | $420    |\n",
    "\n",
    "Right Dataset\n",
    "| key    | different_value |\n",
    "| -------- | ------- |\n",
    "| A1  | cat    |\n",
    "| A2 | dog     |\n",
    "| A3    | apple    |\n",
    "\n",
    "Data Joined on key\n",
    "\n",
    "| key    | value | different_value |\n",
    "| -------- | ------- | ------- |\n",
    "| A1  | $250    | cat |\n",
    "| A2 | $80     | dog |\n",
    "| A3    | $420    | apple |\n",
    "\n",
    "Typically we refer to the starting dataset as the left dataset and the one being added as the right. \n",
    "\n",
    "The logic is typically that there is the same value in a specific column in both datasets. SQL allows for slightly more advanced logic which we will learn next quarter. Today we will focus on just columns matching. \n",
    "\n",
    "There are different types of joins that you will explore in this notebook (inner, outer, left, right, cross). The typical visual that is used to illustration these concepts in Ven Diagrams. If you are getting stuck trying to pick the right join type search for \"types of joins\" and look at the pictures that come up.\n",
    "\n",
    "\n",
    "## **Concat or Union**\n",
    "\n",
    "This is a process of combining two dataset by adding the rows of one dataset to the end of another. There is no logic required for this. This is called conact in pandas and union in SQL. \n",
    "\n",
    "In most version of SQL you are required to have the same columns in both datasets. In pandas you don't have to. If I concatenate the two dataset above in pandas I would get:\n",
    "\n",
    "| key    | value | different_value |\n",
    "| -------- | ------- | ------- |\n",
    "| A1  | $250    | null |\n",
    "| A2 | $80     | null |\n",
    "| A3    | $420    | null |\n",
    "| A1  | null    | cat |\n",
    "| A2 | null     | dog |\n",
    "| A3    | null    | apple |\n",
    "\n",
    "However if my right dataset looked like this:\n",
    "\n",
    "| key    | value |\n",
    "| -------- | ------- |\n",
    "| A1  | cat    |\n",
    "| A2 | dog     |\n",
    "| A3    | apple    |\n",
    "\n",
    "then I could union them in SQL or concat in pandas to get:\n",
    "\n",
    "| key    | value |\n",
    "| -------- | ------- |\n",
    "| A1  | $250    |\n",
    "| A2 | $80     |\n",
    "| A3    | $420    |\n",
    "| A1  | cat    |\n",
    "| A2 | dog     |\n",
    "| A3    | apple    |\n",
    "\n"
   ]
  },
  {
   "cell_type": "code",
   "execution_count": 13,
   "metadata": {},
   "outputs": [],
   "source": [
    "import pandas as pd\n",
    "import numpy as np"
   ]
  },
  {
   "cell_type": "code",
   "execution_count": 14,
   "metadata": {},
   "outputs": [],
   "source": [
    "df_1 = pd.DataFrame({\"ints\": range(100)})\n",
    "df_2 = pd.DataFrame({\"ints\": range(-10, 10)}, index=range(-10, 10))\n",
    "\n",
    "\n",
    "df_1['threes'] = np.floor(df_1['ints']/3) * 3\n",
    "\n",
    "df_2['evens'] = df_2['ints']*2\n",
    "df_2['threes'] = np.floor(df_2['ints']/3) * 3"
   ]
  },
  {
   "cell_type": "markdown",
   "metadata": {},
   "source": [
    "### Problem 1:\n",
    "\n",
    "Your first task will be to create a dataset by `merging` `df_1` and `df_2` on the `ints` column where the match on both sides. The results will be a dataframe with 10 rows and 5 columns.\n",
    "\n",
    "You will then create the same dataframe by using the `join` function and joining the two datasets where the indexes are equal. There will be a little more work of handle column duplication so look up the error and figure out arguments to set. How many columns do you get in this case?"
   ]
  },
  {
   "cell_type": "code",
   "execution_count": 15,
   "metadata": {},
   "outputs": [
    {
     "name": "stdout",
     "output_type": "stream",
     "text": [
      "(10, 4)\n"
     ]
    }
   ],
   "source": [
    "df_merge = df_1.merge(df_2, on=\"ints\", suffixes=(\"_df1\", \"_df2\"))\n",
    "print(df_merge.shape)"
   ]
  },
  {
   "cell_type": "code",
   "execution_count": 16,
   "metadata": {},
   "outputs": [
    {
     "name": "stdout",
     "output_type": "stream",
     "text": [
      "(10, 3)\n"
     ]
    }
   ],
   "source": [
    "df_join = df_1.set_index(\"ints\").join(df_2.set_index(\"ints\"), how=\"inner\", lsuffix=\"_df1\", rsuffix=\"_df2\")\n",
    "print(df_join.shape)"
   ]
  },
  {
   "cell_type": "markdown",
   "metadata": {},
   "source": [
    "## Problem 2:\n",
    "\n",
    "Next you will perform the same merge as above three times with the following modifications:\n",
    "\n",
    "* You want to keep all rows in `df_1` even if there is no match found in `df_2`\n",
    "* You want to keep all rows in `df_2` even if there is no match found in `df_1`\n",
    "* You want to keep all rows in `df_1` and `df_2` even if there is no match found in the other dataframe\n",
    "\n",
    "\n",
    "How many rows do you end up with in each case? \n",
    "\n",
    "Think through a scenario where you might want to do this and add it as a comment above each merge. "
   ]
  },
  {
   "cell_type": "code",
   "execution_count": 17,
   "metadata": {},
   "outputs": [
    {
     "name": "stdout",
     "output_type": "stream",
     "text": [
      "(100, 4)\n"
     ]
    }
   ],
   "source": [
    "df_left = df_1.merge(df_2, on=\"ints\", how=\"left\", suffixes=(\"_df1\", \"_df2\"))\n",
    "print(df_left.shape)"
   ]
  },
  {
   "cell_type": "code",
   "execution_count": 18,
   "metadata": {},
   "outputs": [
    {
     "name": "stdout",
     "output_type": "stream",
     "text": [
      "(20, 4)\n"
     ]
    }
   ],
   "source": [
    "df_right = df_1.merge(df_2, on=\"ints\", how=\"right\", suffixes=(\"_df1\", \"_df2\"))\n",
    "print(df_right.shape)"
   ]
  },
  {
   "cell_type": "code",
   "execution_count": 19,
   "metadata": {},
   "outputs": [
    {
     "name": "stdout",
     "output_type": "stream",
     "text": [
      "(110, 4)\n"
     ]
    }
   ],
   "source": [
    "df_outer = df_1.merge(df_2, on=\"ints\", how=\"outer\", suffixes=(\"_df1\", \"_df2\"))\n",
    "print(df_outer.shape)"
   ]
  },
  {
   "cell_type": "markdown",
   "metadata": {},
   "source": [
    "### Problem 3\n",
    "\n",
    "Now we are going to merge on columns that are not the same. Merge on the following:\n",
    "\n",
    "* Merge `df_1` and `df_2` where `df_1.ints = df_2.evens`, only keep rows where there is a value for either dataframe\n",
    "* Merge `df_1` and `df_2` where `df_1.ints = df_2.threes`, only keep rows where there is a value for either dataframe\n",
    "* Merge `df_1` and `df_2` where `df_1.ints = df_2.threes`, keep all rows from `df_1` even if there is no match found in `df_2`\n",
    "* Merge `df_1` and `df_2` where `df_1.threes = df_2.threes`, only keep rows where there is a value for either dataframe\n",
    "\n",
    "\n",
    "How many rows do you end up with in each case? Are there any duplications? (try: value_count)\n",
    "\n",
    "Think through a scenario where you might want to do this and add it as a comment above each merge. "
   ]
  },
  {
   "cell_type": "code",
   "execution_count": 20,
   "metadata": {},
   "outputs": [
    {
     "name": "stdout",
     "output_type": "stream",
     "text": [
      "(110, 5)\n"
     ]
    }
   ],
   "source": [
    "df_merge_1 = df_1.merge(df_2, left_on=\"ints\", right_on=\"evens\", how=\"outer\")\n",
    "print(df_merge_1.shape)"
   ]
  },
  {
   "cell_type": "code",
   "execution_count": 21,
   "metadata": {},
   "outputs": [
    {
     "name": "stdout",
     "output_type": "stream",
     "text": [
      "(116, 5)\n"
     ]
    }
   ],
   "source": [
    "df_merge_2 = df_1.merge(df_2, left_on=\"ints\", right_on=\"threes\", how=\"outer\")\n",
    "print(df_merge_2.shape)"
   ]
  },
  {
   "cell_type": "code",
   "execution_count": 22,
   "metadata": {},
   "outputs": [
    {
     "name": "stdout",
     "output_type": "stream",
     "text": [
      "(106, 5)\n"
     ]
    }
   ],
   "source": [
    "df_merge_3 = df_1.merge(df_2, left_on=\"ints\", right_on=\"threes\", how=\"left\")\n",
    "print(df_merge_3.shape)"
   ]
  },
  {
   "cell_type": "code",
   "execution_count": 23,
   "metadata": {},
   "outputs": [
    {
     "name": "stdout",
     "output_type": "stream",
     "text": [
      "(128, 4)\n"
     ]
    }
   ],
   "source": [
    "df_merge_4 = df_1.merge(df_2, on=\"threes\", how=\"outer\")\n",
    "print(df_merge_4.shape)"
   ]
  },
  {
   "cell_type": "markdown",
   "metadata": {},
   "source": [
    "### Problem 4\n",
    "\n",
    "Add a new the column to `df_2` called `threes_string` that is the `threes` column converted to a string. Attempt to merge `df_1` and `df_2` where `df_1.threes = df_2.threes_string` with an inner join. What happens? Why? There is a type mismatch error, the inner join will fail because now the data types are different. The columns have to be compatible with one another. "
   ]
  },
  {
   "cell_type": "code",
   "execution_count": null,
   "metadata": {},
   "outputs": [],
   "source": [
    "df_2['threes_string'] = df_2['threes'].astype(str)\n",
    "df_merge_problem = df_1.merge(df_2, left_on='threes', right_on='threes_string', how='inner')\n",
    "print(df_merge_problem)"
   ]
  },
  {
   "cell_type": "markdown",
   "metadata": {},
   "source": [
    "### Problem 5\n",
    "\n",
    "Now you will play around with `pd.concat` by doing the following:\n",
    "\n",
    "* Concatenate `df_1` and `df_2` keeping all rows, columns and indexes\n",
    "* Concatenate `df_1` and `df_2` keeping all rows and columns but ignore the indexes from the orginal dataframes and instead have the index on this dataframe be zero to the number of rows.\n",
    "* Concatenate `df_1` and `df_2` keeping all rows and indexes the same but only keeping columns that exist in both dataframes\n"
   ]
  },
  {
   "cell_type": "code",
   "execution_count": null,
   "metadata": {},
   "outputs": [
    {
     "name": "stdout",
     "output_type": "stream",
     "text": [
      "(120, 4)\n",
      "(120, 4)\n",
      "(120, 2)\n"
     ]
    }
   ],
   "source": [
    "df_concat_1 = pd.concat([df_1, df_2], axis=0, join='outer')\n",
    "print(df_concat_1.shape)\n",
    "\n",
    "df_concat_2 = pd.concat([df_1, df_2], axis=0, join='outer', ignore_index=True)\n",
    "print(df_concat_2.shape)"
   ]
  },
  {
   "cell_type": "code",
   "execution_count": null,
   "metadata": {},
   "outputs": [],
   "source": [
    "df_concat_3 = pd.concat([df_1, df_2], axis=0, join='inner')\n",
    "print(df_concat_3.shape)"
   ]
  },
  {
   "cell_type": "markdown",
   "metadata": {},
   "source": [
    "## Linear Algebra: Rank and Column Space"
   ]
  },
  {
   "cell_type": "markdown",
   "metadata": {},
   "source": [
    "### Problem 6\n",
    "You will now learn how to create random matrices with arbitrary rank (subject to the constraints about matrix sizes, etc.). To create an $m \\times n$ matrix with rank $r$, multiply a random $m \\times r$ matrix with a random $r \\times n$ matrix. Implement this in Python and confirm that the rank is indeed $r$. \n",
    "\n",
    "What happens if you set $r > min{M,N}$, and why does that happen? The rank will be by the smaller of n or m, and can't be any greater than this minimum value. "
   ]
  },
  {
   "cell_type": "code",
   "execution_count": 28,
   "metadata": {},
   "outputs": [
    {
     "name": "stdout",
     "output_type": "stream",
     "text": [
      "Rank of the matrix: 3\n",
      "Expected rank: 3\n"
     ]
    }
   ],
   "source": [
    "def generate_matrix_with_rank(num_rows, num_columns, rank):\n",
    "    matrix_A = np.random.randn(num_rows, rank)\n",
    "    matrix_B = np.random.randn(rank, num_columns)\n",
    "    result_matrix = np.dot(matrix_A, matrix_B)\n",
    "    matrix_rank = np.linalg.matrix_rank(result_matrix)\n",
    "    \n",
    "    print(f\"Rank of the matrix: {matrix_rank}\")\n",
    "    print(f\"Expected rank: {rank}\")\n",
    "    return result_matrix, matrix_rank\n",
    "\n",
    "num_rows, num_columns, rank = 5, 4, 3\n",
    "result_matrix, matrix_rank = generate_matrix_with_rank(num_rows, num_columns, rank)"
   ]
  },
  {
   "cell_type": "markdown",
   "metadata": {},
   "source": [
    "### Problem 7\n",
    "Interestingly, the matrices $A$, $A^T$, $A^T A$, and $AA^T$ all have the same rank. Write code to demonstrate this, using random matrices of various sizes, shapes (square, tall, wide), and ranks. Create a total of 6 random, two of each size that have different sizes and ranks. "
   ]
  },
  {
   "cell_type": "code",
   "execution_count": null,
   "metadata": {},
   "outputs": [
    {
     "name": "stdout",
     "output_type": "stream",
     "text": [
      "Rank of A: 5\n",
      "Rank of A^T: 5\n",
      "Rank of A^T A: 5\n",
      "Rank of A A^T: 5\n",
      "==============================\n",
      "Rank of A: 3\n",
      "Rank of A^T: 3\n",
      "Rank of A^T A: 3\n",
      "Rank of A A^T: 3\n",
      "==============================\n",
      "Rank of A: 3\n",
      "Rank of A^T: 3\n",
      "Rank of A^T A: 3\n",
      "Rank of A A^T: 3\n",
      "==============================\n",
      "Rank of A: 2\n",
      "Rank of A^T: 2\n",
      "Rank of A^T A: 2\n",
      "Rank of A A^T: 2\n",
      "==============================\n",
      "Rank of A: 1\n",
      "Rank of A^T: 1\n",
      "Rank of A^T A: 1\n",
      "Rank of A A^T: 1\n",
      "==============================\n",
      "Rank of A: 1\n",
      "Rank of A^T: 1\n",
      "Rank of A^T A: 1\n",
      "Rank of A A^T: 1\n",
      "==============================\n"
     ]
    }
   ],
   "source": [
    "import numpy as np\n",
    "\n",
    "def check_rank_of_matrices(matrix):\n",
    "    transpose_matrix = matrix.T\n",
    "    product_A_T_A = np.dot(transpose_matrix, matrix)\n",
    "    product_A_A_T = np.dot(matrix, transpose_matrix)\n",
    "    \n",
    "    rank_A = np.linalg.matrix_rank(matrix)\n",
    "    rank_A_T = np.linalg.matrix_rank(transpose_matrix)\n",
    "    rank_A_T_A = np.linalg.matrix_rank(product_A_T_A)\n",
    "    rank_A_A_T = np.linalg.matrix_rank(product_A_A_T)\n",
    "    \n",
    "    print(f\"Rank of A: {rank_A}\")\n",
    "    print(f\"Rank of A^T: {rank_A_T}\")\n",
    "    print(f\"Rank of A^T A: {rank_A_T_A}\")\n",
    "    print(f\"Rank of A A^T: {rank_A_A_T}\")\n",
    "    print(\"=\"*30)\n",
    "\n",
    "# Test 1: Square matrix, full rank\n",
    "A1 = np.random.randn(5, 5)\n",
    "check_rank_of_matrices(A1)\n",
    "\n",
    "# Test 2: Tall matrix, full rank\n",
    "A2 = np.random.randn(5, 3)\n",
    "check_rank_of_matrices(A2)\n",
    "\n",
    "# Test 3: Wide matrix, full rank\n",
    "A3 = np.random.randn(3, 5)\n",
    "check_rank_of_matrices(A3)\n",
    "\n",
    "# Test 4: Square matrix, rank < min(rows, columns)\n",
    "A4 = np.random.randn(5, 5)\n",
    "A4[:, 2:] = 0 \n",
    "check_rank_of_matrices(A4)\n",
    "\n",
    "# Test 5: Tall matrix, rank < min(rows, columns)\n",
    "A5 = np.random.randn(5, 3)\n",
    "A5[:, 1:] = 0  \n",
    "check_rank_of_matrices(A5)\n",
    "\n",
    "# Test 6: Wide matrix, rank < min(rows, columns)\n",
    "A6 = np.random.randn(3, 5)\n",
    "A6[1:, :] = 0 \n",
    "check_rank_of_matrices(A6)\n"
   ]
  },
  {
   "cell_type": "markdown",
   "metadata": {},
   "source": [
    "### Problem 8\n",
    "\n",
    "Demonstrate the addition rule of matrix rank $(r(A + B) ≤ r(A) + r(B))$ by creating three pairs of rank-1 matrices that have a sum with \n",
    "1. rank-0\n",
    "2. rank-1\n",
    "3. rank-2\n",
    "\n",
    "Then repeat this exercise using matrix multiplication instead of addition."
   ]
  },
  {
   "cell_type": "code",
   "execution_count": 31,
   "metadata": {},
   "outputs": [
    {
     "name": "stdout",
     "output_type": "stream",
     "text": [
      "Sum rank (rank-0 case): 0\n",
      "Sum rank (rank-1 case): 1\n",
      "Sum rank (rank-2 case): 1\n",
      "Multiplication rank (rank-0 case): 1\n",
      "Multiplication rank (rank-1 case): 1\n",
      "Multiplication rank (rank-2 case): 0\n"
     ]
    }
   ],
   "source": [
    "import numpy as np\n",
    "\n",
    "def compute_rank_of_sum(matrix_A, matrix_B):\n",
    "    result_matrix = matrix_A + matrix_B\n",
    "    return np.linalg.matrix_rank(result_matrix)\n",
    "\n",
    "def compute_rank_of_multiplication(matrix_A, matrix_B):\n",
    "    result_matrix = np.dot(matrix_A, matrix_B.T)  # Transpose matrix_B for valid multiplication\n",
    "    return np.linalg.matrix_rank(result_matrix)\n",
    "\n",
    "# Rank-0 sum\n",
    "matrix_A1 = np.array([[1], [0]])\n",
    "matrix_B1 = np.array([[-1], [0]])\n",
    "print(f\"Sum rank (rank-0 case): {compute_rank_of_sum(matrix_A1, matrix_B1)}\")\n",
    "\n",
    "# Rank-1 sum\n",
    "matrix_A2 = np.array([[1], [0]])\n",
    "matrix_B2 = np.array([[0], [1]])\n",
    "print(f\"Sum rank (rank-1 case): {compute_rank_of_sum(matrix_A2, matrix_B2)}\")\n",
    "\n",
    "# Rank-2 sum\n",
    "matrix_A3 = np.array([[1, 0], [0, 0]])\n",
    "matrix_B3 = np.array([[0, 1], [0, 0]])\n",
    "print(f\"Sum rank (rank-2 case): {compute_rank_of_sum(matrix_A3, matrix_B3)}\")\n",
    "\n",
    "# Rank-0 product\n",
    "matrix_A4 = np.array([[1], [0]])\n",
    "matrix_B4 = np.array([[-1], [0]])\n",
    "print(f\"Multiplication rank (rank-0 case): {compute_rank_of_multiplication(matrix_A4, matrix_B4)}\")\n",
    "\n",
    "# Rank-1 product\n",
    "matrix_A5 = np.array([[1], [0]])\n",
    "matrix_B5 = np.array([[0], [1]])\n",
    "print(f\"Multiplication rank (rank-1 case): {compute_rank_of_multiplication(matrix_A5, matrix_B5)}\")\n",
    "\n",
    "# Rank-2 product\n",
    "matrix_A6 = np.array([[1, 0], [0, 0]])\n",
    "matrix_B6 = np.array([[0, 1], [0, 0]])\n",
    "print(f\"Multiplication rank (rank-2 case): {compute_rank_of_multiplication(matrix_A6, matrix_B6)}\")\n"
   ]
  },
  {
   "cell_type": "markdown",
   "metadata": {},
   "source": [
    "### Problem 9\n",
    "\n",
    "The goal of this exercise is to answer the question is $v \\in C(A)$?\n",
    "\n",
    "Create a rank-3 matrix $A \\in \\mathbb{R}^{4 \\times 3}$ and vector $v \\in \\mathbb{R}^{4}$ using numbers randomly drawn from a normal distribution. \n",
    "\n",
    "Follow the algorithm described in the [In the Column Space?](https://learning.oreilly.com/library/view/practical-linear-algebra/9781098120603/ch06.html#id335) section of Practical Linear Algebra to determine whether the vector is in the column space of the matrix. \n",
    "\n",
    "Rerun the code multiple times to see whether you find a consistent pattern. \n",
    "\n",
    "Next, use a $A \\in \\mathbb{R}^{4 \\times 4}$ rank-4 matrix and a vector $v \\in \\mathbb{R}^{4}$ using numbers randomly drawn from a normal distribution. What happens in this case? Why?\n"
   ]
  },
  {
   "cell_type": "code",
   "execution_count": null,
   "metadata": {},
   "outputs": [
    {
     "name": "stdout",
     "output_type": "stream",
     "text": [
      "Vector is in the column space of rank-3 matrix: True\n",
      "Vector is in the column space of rank-4 matrix: True\n"
     ]
    }
   ],
   "source": [
    "import numpy as np\n",
    "\n",
    "def is_v_in_column_space(matrix_A, vector_v):\n",
    "    try:\n",
    "        solution = np.linalg.lstsq(matrix_A, vector_v, rcond=None)[0]\n",
    "        return True\n",
    "    except np.linalg.LinAlgError:\n",
    "        return False\n",
    "\n",
    "rank_3_matrix = np.random.randn(4, 3)\n",
    "vector_3 = np.random.randn(4)\n",
    "is_in_column_space_3 = is_v_in_column_space(rank_3_matrix, vector_3)\n",
    "print(f\"Vector is in the column space of rank-3 matrix: {is_in_column_space_3}\")\n",
    "\n",
    "rank_4_matrix = np.random.randn(4, 4)\n",
    "vector_4 = np.random.randn(4)\n",
    "is_in_column_space_4 = is_v_in_column_space(rank_4_matrix, vector_4)\n",
    "print(f\"Vector is in the column space of rank-4 matrix: {is_in_column_space_4}\")\n"
   ]
  }
 ],
 "metadata": {
  "kernelspec": {
   "display_name": "Python 3",
   "language": "python",
   "name": "python3"
  },
  "language_info": {
   "codemirror_mode": {
    "name": "ipython",
    "version": 3
   },
   "file_extension": ".py",
   "mimetype": "text/x-python",
   "name": "python",
   "nbconvert_exporter": "python",
   "pygments_lexer": "ipython3",
   "version": "3.12.9"
  }
 },
 "nbformat": 4,
 "nbformat_minor": 2
}
