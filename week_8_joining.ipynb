{
 "cells": [
  {
   "cell_type": "markdown",
   "metadata": {},
   "source": [
    "# Week 8 Overview\n",
    "\n",
    "This week will be a mix of data joining/merging problems and linear algebra. \n",
    "The first 5 problems are data cleaning and the final 4 problems are linear algebra. "
   ]
  },
  {
   "cell_type": "markdown",
   "metadata": {},
   "source": [
    "There are multiple ways to combine data. These methods are common cross multiple languages like pandas, SQL, and R. At times the naming is different but the general concepts apply. \n",
    "\n",
    "### **Joining or Merging**\n",
    "This is a process of combining two datasets by adding the columns of one dataset to the other by some logical relationship between the columns. \n",
    "\n",
    "In SQL we call this joining but pandas has two functions:\n",
    "\n",
    "**merge** - The default behavor for merge is to combine on columns matching.\n",
    "\n",
    "**join** - The default behavor for join is to combine on the column index matching. \n",
    "\n",
    "Often times I will colloquially use the word \"join\" for either merging or joining in pandas. \n",
    "\n",
    "Left Dataset\n",
    "| key    | value |\n",
    "| -------- | ------- |\n",
    "| A1  | $250    |\n",
    "| A2 | $80     |\n",
    "| A3    | $420    |\n",
    "\n",
    "Right Dataset\n",
    "| key    | different_value |\n",
    "| -------- | ------- |\n",
    "| A1  | cat    |\n",
    "| A2 | dog     |\n",
    "| A3    | apple    |\n",
    "\n",
    "Data Joined on key\n",
    "\n",
    "| key    | value | different_value |\n",
    "| -------- | ------- | ------- |\n",
    "| A1  | $250    | cat |\n",
    "| A2 | $80     | dog |\n",
    "| A3    | $420    | apple |\n",
    "\n",
    "Typically we refer to the starting dataset as the left dataset and the one being added as the right. \n",
    "\n",
    "The logic is typically that there is the same value in a specific column in both datasets. SQL allows for slightly more advanced logic which we will learn next quarter. Today we will focus on just columns matching. \n",
    "\n",
    "There are different types of joins that you will explore in this notebook (inner, outer, left, right, cross). The typical visual that is used to illustration these concepts in Ven Diagrams. If you are getting stuck trying to pick the right join type search for \"types of joins\" and look at the pictures that come up.\n",
    "\n",
    "\n",
    "## **Concat or Union**\n",
    "\n",
    "This is a process of combining two dataset by adding the rows of one dataset to the end of another. There is no logic required for this. This is called conact in pandas and union in SQL. \n",
    "\n",
    "In most version of SQL you are required to have the same columns in both datasets. In pandas you don't have to. If I concatenate the two dataset above in pandas I would get:\n",
    "\n",
    "| key    | value | different_value |\n",
    "| -------- | ------- | ------- |\n",
    "| A1  | $250    | null |\n",
    "| A2 | $80     | null |\n",
    "| A3    | $420    | null |\n",
    "| A1  | null    | cat |\n",
    "| A2 | null     | dog |\n",
    "| A3    | null    | apple |\n",
    "\n",
    "However if my right dataset looked like this:\n",
    "\n",
    "| key    | value |\n",
    "| -------- | ------- |\n",
    "| A1  | cat    |\n",
    "| A2 | dog     |\n",
    "| A3    | apple    |\n",
    "\n",
    "then I could union them in SQL or concat in pandas to get:\n",
    "\n",
    "| key    | value |\n",
    "| -------- | ------- |\n",
    "| A1  | $250    |\n",
    "| A2 | $80     |\n",
    "| A3    | $420    |\n",
    "| A1  | cat    |\n",
    "| A2 | dog     |\n",
    "| A3    | apple    |\n",
    "\n"
   ]
  },
  {
   "cell_type": "code",
   "execution_count": null,
   "metadata": {},
   "outputs": [],
   "source": [
    "import pandas as pd\n",
    "import numpy as np"
   ]
  },
  {
   "cell_type": "code",
   "execution_count": null,
   "metadata": {},
   "outputs": [],
   "source": [
    "df_1 = pd.DataFrame({\"ints\": range(100)})\n",
    "df_2 = pd.DataFrame({\"ints\": range(-10, 10)}, index=range(-10, 10))\n",
    "\n",
    "\n",
    "df_1['threes'] = np.floor(df_1['ints']/3) * 3\n",
    "\n",
    "df_2['evens'] = df_2['ints']*2\n",
    "df_2['threes'] = np.floor(df_2['ints']/3) * 3"
   ]
  },
  {
   "cell_type": "markdown",
   "metadata": {},
   "source": [
    "### Problem 1:\n",
    "\n",
    "Your first task will be to create a dataset by `merging` `df_1` and `df_2` on the `ints` column where the match on both sides. The results will be a dataframe with 10 rows and 5 columns.\n",
    "\n",
    "You will then create the same dataframe by using the `join` function and joining the two datasets where the indexes are equal. There will be a little more work of handle column duplication so look up the error and figure out arguments to set. How many columns do you get in this case?"
   ]
  },
  {
   "cell_type": "code",
   "execution_count": null,
   "metadata": {},
   "outputs": [],
   "source": []
  },
  {
   "cell_type": "code",
   "execution_count": null,
   "metadata": {},
   "outputs": [],
   "source": []
  },
  {
   "cell_type": "markdown",
   "metadata": {},
   "source": [
    "## Problem 2:\n",
    "\n",
    "Next you will perform the same merge as above three times with the following modifications:\n",
    "\n",
    "* You want to keep all rows in `df_1` even if there is no match found in `df_2`\n",
    "* You want to keep all rows in `df_2` even if there is no match found in `df_1`\n",
    "* You want to keep all rows in `df_1` and `df_2` even if there is no match found in the other dataframe\n",
    "\n",
    "\n",
    "How many rows do you end up with in each case? \n",
    "\n",
    "Think through a scenario where you might want to do this and add it as a comment above each merge. "
   ]
  },
  {
   "cell_type": "code",
   "execution_count": null,
   "metadata": {},
   "outputs": [],
   "source": []
  },
  {
   "cell_type": "code",
   "execution_count": null,
   "metadata": {},
   "outputs": [],
   "source": []
  },
  {
   "cell_type": "code",
   "execution_count": null,
   "metadata": {},
   "outputs": [],
   "source": []
  },
  {
   "cell_type": "markdown",
   "metadata": {},
   "source": [
    "### Problem 3\n",
    "\n",
    "Now we are going to merge on columns that are not the same. Merge on the following:\n",
    "\n",
    "* Merge `df_1` and `df_2` where `df_1.ints = df_2.evens`, only keep rows where there is a value for either dataframe\n",
    "* Merge `df_1` and `df_2` where `df_1.ints = df_2.threes`, only keep rows where there is a value for either dataframe\n",
    "* Merge `df_1` and `df_2` where `df_1.ints = df_2.threes`, keep all rows from `df_1` even if there is no match found in `df_2`\n",
    "* Merge `df_1` and `df_2` where `df_1.threes = df_2.threes`, only keep rows where there is a value for either dataframe\n",
    "\n",
    "\n",
    "How many rows do you end up with in each case? Are there any duplications? (try: value_count)\n",
    "\n",
    "Think through a scenario where you might want to do this and add it as a comment above each merge. "
   ]
  },
  {
   "cell_type": "code",
   "execution_count": null,
   "metadata": {},
   "outputs": [],
   "source": []
  },
  {
   "cell_type": "code",
   "execution_count": null,
   "metadata": {},
   "outputs": [],
   "source": []
  },
  {
   "cell_type": "code",
   "execution_count": null,
   "metadata": {},
   "outputs": [],
   "source": []
  },
  {
   "cell_type": "code",
   "execution_count": null,
   "metadata": {},
   "outputs": [],
   "source": []
  },
  {
   "cell_type": "markdown",
   "metadata": {},
   "source": [
    "### Problem 4\n",
    "\n",
    "Add a new the column to `df_2` called `threes_string` that is the `threes` column converted to a string. Attempt to merge `df_1` and `df_2` where `df_1.threes = df_2.threes_string` with an inner join. What happens? Why?"
   ]
  },
  {
   "cell_type": "code",
   "execution_count": null,
   "metadata": {},
   "outputs": [],
   "source": []
  },
  {
   "cell_type": "markdown",
   "metadata": {},
   "source": [
    "### Problem 5\n",
    "\n",
    "Now you will play around with `pd.concat` by doing the following:\n",
    "\n",
    "* Concatenate `df_1` and `df_2` keeping all rows, columns and indexes\n",
    "* Concatenate `df_1` and `df_2` keeping all rows and columns but ignore the indexes from the orginal dataframes and instead have the index on this dataframe be zero to the number of rows.\n",
    "* Concatenate `df_1` and `df_2` keeping all rows and indexes the same but only keeping columns that exist in both dataframes\n"
   ]
  },
  {
   "cell_type": "code",
   "execution_count": null,
   "metadata": {},
   "outputs": [],
   "source": []
  },
  {
   "cell_type": "markdown",
   "metadata": {},
   "source": [
    "## Linear Algebra: Rank and Column Space"
   ]
  },
  {
   "cell_type": "markdown",
   "metadata": {},
   "source": [
    "### Problem 6\n",
    "You will now learn how to create random matrices with arbitrary rank (subject to the constraints about matrix sizes, etc.). To create an $m \\times n$ matrix with rank $r$, multiply a random $m \\times r$ matrix with a random $r \\times n$ matrix. Implement this in Python and confirm that the rank is indeed $r$. \n",
    "\n",
    "What happens if you set $r > min{M,N}$, and why does that happen?"
   ]
  },
  {
   "cell_type": "code",
   "execution_count": null,
   "metadata": {},
   "outputs": [],
   "source": []
  },
  {
   "cell_type": "markdown",
   "metadata": {},
   "source": [
    "### Problem 7\n",
    "Interestingly, the matrices $A$, $A^T$, $A^T A$, and $AA^T$ all have the same rank. Write code to demonstrate this, using random matrices of various sizes, shapes (square, tall, wide), and ranks. Create a total of 6 random, two of each size that have different sizes and ranks. "
   ]
  },
  {
   "cell_type": "code",
   "execution_count": null,
   "metadata": {},
   "outputs": [],
   "source": []
  },
  {
   "cell_type": "markdown",
   "metadata": {},
   "source": [
    "### Problem 8\n",
    "\n",
    "Demonstrate the addition rule of matrix rank $(r(A + B) ≤ r(A) + r(B))$ by creating three pairs of rank-1 matrices that have a sum with \n",
    "1. rank-0\n",
    "2. rank-1\n",
    "3. rank-2\n",
    "\n",
    "Then repeat this exercise using matrix multiplication instead of addition."
   ]
  },
  {
   "cell_type": "code",
   "execution_count": null,
   "metadata": {},
   "outputs": [],
   "source": []
  },
  {
   "cell_type": "markdown",
   "metadata": {},
   "source": [
    "### Problem 9\n",
    "\n",
    "The goal of this exercise is to answer the question is $v \\in C(A)$?\n",
    "\n",
    "Create a rank-3 matrix $A \\in \\mathbb{R}^{4 \\times 3}$ and vector $v \\in \\mathbb{R}^{4}$ using numbers randomly drawn from a normal distribution. \n",
    "\n",
    "Follow the algorithm described in the [In the Column Space?](https://learning.oreilly.com/library/view/practical-linear-algebra/9781098120603/ch06.html#id335) section of Practical Linear Algebra to determine whether the vector is in the column space of the matrix. \n",
    "\n",
    "Rerun the code multiple times to see whether you find a consistent pattern. \n",
    "\n",
    "Next, use a $A \\in \\mathbb{R}^{4 \\times 4}$ rank-4 matrix and a vector $v \\in \\mathbb{R}^{4}$ using numbers randomly drawn from a normal distribution. What happens in this case? Why?\n"
   ]
  },
  {
   "cell_type": "code",
   "execution_count": null,
   "metadata": {},
   "outputs": [],
   "source": []
  }
 ],
 "metadata": {
  "kernelspec": {
   "display_name": "AD_450_env",
   "language": "python",
   "name": "python3"
  },
  "language_info": {
   "codemirror_mode": {
    "name": "ipython",
    "version": 3
   },
   "file_extension": ".py",
   "mimetype": "text/x-python",
   "name": "python",
   "nbconvert_exporter": "python",
   "pygments_lexer": "ipython3",
   "version": "3.10.16"
  }
 },
 "nbformat": 4,
 "nbformat_minor": 2
}
