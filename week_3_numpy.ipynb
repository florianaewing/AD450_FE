{
  "cells": [
    {
      "cell_type": "markdown",
      "metadata": {
        "id": "0CEWh8h_v3IF"
      },
      "source": [
        "# Intro to NumPy\n",
        "\n",
        "---\n",
        "\n",
        "NumPy is a foundational package for numerical computing in Python.\n",
        "\n",
        "*   NumPy provides `ndarray`, an efficient multi-dimensional array supporting fast array-oriented arithmetic operations.\n",
        "*   Can perform math operations on entire arrays without using for loops\n",
        "*   Can perform common array operations like sorting, unique, & set\n",
        "*   Linear Algebra, random number generation and Fourier transform capabilities\n",
        "*   C api for connecting with C, C++, & FORTRAN libraries\n",
        "*   Can map data directly onto underlying disk or memory representation\n"
      ]
    },
    {
      "cell_type": "markdown",
      "metadata": {
        "id": "VOeGstZzwvWu"
      },
      "source": [
        "### Efficiency\n",
        "- NumPy stores data in contiguous memory blocks\n",
        "- NumPy stores data with single type so operations don’t require type checking\n",
        "- Performs complex computations on entire arrays without the need for loops\n",
        "- Operations don’t copy arrays by default\n",
        "\n",
        "NumPy-based algorithms are generally 10 to 100 times faster (or more) than their pure Python counterparts and use significantly less memory.\n",
        "\n",
        "NumPy is designed & optimized for **vectorized** (batch) operations on array data without `for` loops\n",
        "\n",
        "- Arithmetic operations between equal-size arrays apply the operation element-wise - multiplication, addition, subtraction, division\n",
        "- Scalar operations propagate the scalar argument to each element in the array\n",
        "- Comparisons between equal size arrays yield boolean arrays\n"
      ]
    },
    {
      "cell_type": "markdown",
      "metadata": {
        "id": "ZJfOmTLLxQD1"
      },
      "source": [
        "### Creating arrays\n",
        "NumPy provides the `ndarray` a multi-dimensional array structure optimized for fast numeric operatons.\n",
        "\n",
        "ndarrays are constructed from sequences of homogenous values.\n",
        "\n",
        "Unless explicitly specified, `np.array` infers a data type for the created array and stores the data type in a special `dtype` metadata object.\n"
      ]
    },
    {
      "cell_type": "code",
      "execution_count": 35,
      "metadata": {
        "id": "Pt63xmy1qLll"
      },
      "outputs": [],
      "source": [
        "import numpy as np"
      ]
    },
    {
      "cell_type": "markdown",
      "metadata": {},
      "source": [
        "Problem 1"
      ]
    },
    {
      "cell_type": "code",
      "execution_count": 36,
      "metadata": {
        "colab": {
          "base_uri": "https://localhost:8080/"
        },
        "id": "AVByQUYKxtNG",
        "outputId": "238e50f0-366d-41de-a44a-6cf3e063650c"
      },
      "outputs": [
        {
          "name": "stdout",
          "output_type": "stream",
          "text": [
            "[[1 2 3 4]\n",
            " [5 6 7 8]]\n",
            "\n",
            "Inspect the array\n",
            "--------------\n",
            "dimensions: 2\n",
            "shape:\t (2, 4)\n",
            "size:\t 8\n",
            "datatype: int64\n",
            "bytes:\t 64\n"
          ]
        }
      ],
      "source": [
        "\n",
        "# Create an array called numbers with 2 rows and 4 columns from literal values (integers 1-8)\n",
        "numbers = np.array([[1, 2, 3, 4], [5, 6, 7, 8]])\n",
        "print(numbers)\n",
        "\n",
        "# Replace None below with each value for the array.\n",
        "print(\"\\nInspect the array\\n--------------\")\n",
        "print(\"dimensions:\", numbers.ndim)  # ndarrays have dimensions\n",
        "print(\"shape:\\t\", numbers.shape)    # ndarrays have shape (number of rows & columns)\n",
        "print(\"size:\\t\", numbers.size)      # number of elements in the array\n",
        "print(\"datatype:\", numbers.dtype)   # numpy determines the datatype\n",
        "print(\"bytes:\\t\", numbers.nbytes)   # total bytes consumed by the array\n"
      ]
    },
    {
      "cell_type": "markdown",
      "metadata": {
        "id": "4aB_q1LcQj_Z"
      },
      "source": [
        "Problem 2: `ndarray` has built-in methods to create special arrays."
      ]
    },
    {
      "cell_type": "code",
      "execution_count": 37,
      "metadata": {
        "colab": {
          "base_uri": "https://localhost:8080/"
        },
        "id": "pTXgMRYRQS3v",
        "outputId": "010d4702-bc29-4f87-980e-66fe9b43436a"
      },
      "outputs": [
        {
          "name": "stdout",
          "output_type": "stream",
          "text": [
            "[[1. 1. 1. 1.]\n",
            " [1. 1. 1. 1.]\n",
            " [1. 1. 1. 1.]] \n",
            "\n",
            "[[0. 0. 0. 0.]\n",
            " [0. 0. 0. 0.]\n",
            " [0. 0. 0. 0.]] \n",
            "\n",
            "[[0.15619638 0.27426843]\n",
            " [0.24507878 0.27563293]] \n",
            "\n",
            "[[ 0.  4.]\n",
            " [ 1.  7.]\n",
            " [ 2. 12.]] \n",
            "\n",
            "[['x' 'x']\n",
            " ['x' 'x']] \n",
            "\n",
            "[10 15 20] \n",
            "\n",
            "[0.   0.25 0.5  0.75 1.   1.25 1.5  1.75 2.  ] \n",
            "\n"
          ]
        }
      ],
      "source": [
        "\n",
        "# Create a 3 by 4 array of ones\n",
        "ones = np.ones((3, 4))\n",
        "print(ones, \"\\n\")\n",
        "\n",
        "# Create a 3 by 4 array of zeros\n",
        "zeros = np.zeros((3, 4))\n",
        "print(zeros, \"\\n\")\n",
        "\n",
        "# Create a 2 by 2 array with random values\n",
        "rando = np.random.random((2, 2))\n",
        "print(rando, \"\\n\")\n",
        "\n",
        "# Create a 3 by 2 empty array\n",
        "empty = np.empty((3, 2))\n",
        "print(empty, \"\\n\")\n",
        "\n",
        "# Create a 2 by 2 array full of 'x's\n",
        "full = np.full((2, 2), 'x', dtype='<U1')  # '<U1' specifies a string of length 1\n",
        "print(full, \"\\n\")\n",
        "\n",
        "# Create an array of the form [10, 15, 20] using np.arange\n",
        "even = np.arange(10, 25, 5)  # Start at 10, stop before 25, step by 5\n",
        "print(even, \"\\n\")\n",
        "\n",
        "# Create an array of the form [0.   0.25 0.5  0.75 1.   1.25 1.5  1.75 2.  ] using np.linspace\n",
        "line = np.linspace(0, 2, 9)  # Start at 0, end at 2\n",
        "print(line, \"\\n\")\n"
      ]
    },
    {
      "cell_type": "markdown",
      "metadata": {
        "id": "vWpCRjv90Gna"
      },
      "source": [
        "### Indexing & Slicing\n",
        "\n",
        "NumPy supports data access with Python-like indexing & slicing\n",
        "\n",
        "- One-dimensional ndarrays act similar to Python lists\n",
        "- `ndarray` dimensions are sometimes referred to as axes - e.g. in a 2d array axis 0 is the ‘rows’ and axis 1 is the ‘columns’\n",
        "- ndarray slices are **views** on the original array and not copied. Any changes to the view are reflected in the source array\n"
      ]
    },
    {
      "cell_type": "markdown",
      "metadata": {},
      "source": [
        "Problem 3"
      ]
    },
    {
      "cell_type": "code",
      "execution_count": 38,
      "metadata": {
        "colab": {
          "base_uri": "https://localhost:8080/"
        },
        "id": "NSMJt_4x0qan",
        "outputId": "81e81c55-af1d-4149-dc7c-7edc8a1a582d"
      },
      "outputs": [
        {
          "name": "stdout",
          "output_type": "stream",
          "text": [
            "[5 6 7]\n"
          ]
        }
      ],
      "source": [
        "arr1d = np.array([0,1, 2, 3, 4, 5, 6, 7, 8])\n",
        "\n",
        "# using indexing select and output [5, 6, 7] from arr1d. Save this slice to a variable named slice_arr1d\n",
        "slice_arr1d = arr1d[5:8]  \n",
        "print(slice_arr1d)"
      ]
    },
    {
      "cell_type": "markdown",
      "metadata": {},
      "source": [
        "Problem 4"
      ]
    },
    {
      "cell_type": "code",
      "execution_count": 39,
      "metadata": {
        "colab": {
          "base_uri": "https://localhost:8080/"
        },
        "id": "Xe-PXYhBp4bn",
        "outputId": "cf387d7a-d51f-4540-8d9a-571a9a24f7b5"
      },
      "outputs": [
        {
          "name": "stdout",
          "output_type": "stream",
          "text": [
            "arr1d: [ 0  1  2  3  4 12 12 12  8]\n",
            "slice_arr1d: [12 12 12]\n"
          ]
        }
      ],
      "source": [
        "# Replace 6, 7, and 8 with 12 in arr1d using one line of code. Then print arr1d and slice_arr1d\n",
        "\n",
        "# By changing arr1d, slice_arr1d is also changed since it is a view of arr1d and not a copy\n",
        "arr1d[5:8] = 12\n",
        "\n",
        "print(\"arr1d:\", arr1d)\n",
        "print(\"slice_arr1d:\", slice_arr1d)"
      ]
    },
    {
      "cell_type": "markdown",
      "metadata": {},
      "source": [
        "Problem 5"
      ]
    },
    {
      "cell_type": "code",
      "execution_count": 40,
      "metadata": {
        "colab": {
          "base_uri": "https://localhost:8080/"
        },
        "id": "Eh0My7Eaqe77",
        "outputId": "693ef4b3-97a0-4a42-d77a-740fa2cd81db"
      },
      "outputs": [],
      "source": [
        "# Create a copy of arr1d and name it new_array. Hint: You can't use new_array = arr1d\n",
        "new_array = arr1d.copy()"
      ]
    },
    {
      "cell_type": "markdown",
      "metadata": {},
      "source": [
        "Problem 6"
      ]
    },
    {
      "cell_type": "code",
      "execution_count": 41,
      "metadata": {},
      "outputs": [
        {
          "name": "stdout",
          "output_type": "stream",
          "text": [
            "Type 1:  3\n",
            "Type 2:  3\n"
          ]
        }
      ],
      "source": [
        "arr2d = np.array([[1, 2, 3, 4], [5, 6, 7, 8]])\n",
        "\n",
        "# There are two ways to select 3 from the 2 dimensional array above. Use both ways to select 3 and print the results. \n",
        "\n",
        "type1 = arr2d[0,2] #first row, third column\n",
        "print(\"Type 1: \", type1)\n",
        "\n",
        "type2 = arr2d[0][2] #first row, third element\n",
        "print(\"Type 2: \", type2)\n",
        "\n"
      ]
    },
    {
      "cell_type": "markdown",
      "metadata": {},
      "source": [
        "Problem 7"
      ]
    },
    {
      "cell_type": "code",
      "execution_count": 42,
      "metadata": {
        "colab": {
          "base_uri": "https://localhost:8080/"
        },
        "id": "kvMvyar216T5",
        "outputId": "943f42a4-469a-48f0-f4d4-546849ffa08d"
      },
      "outputs": [
        {
          "name": "stdout",
          "output_type": "stream",
          "text": [
            "[[2 3 4]\n",
            " [6 7 8]]\n",
            "[[3]\n",
            " [7]]\n",
            "[1 2 3 4]\n"
          ]
        }
      ],
      "source": [
        "# In mult-dimensional arrays, slicing that omits later indices will return a lower-dimensional ndarray\n",
        "# Select and print out the following:\n",
        "\n",
        "# select first two rows and all but first column\n",
        "result1 = arr2d[:2,1:]\n",
        "print(result1)\n",
        "\n",
        "# select first two rows and only 3rd column\n",
        "result2 = arr2d[:2,2:3]\n",
        "print(result2)\n",
        "\n",
        "# select all columns in the first row\n",
        "result3 = arr2d[0,:]\n",
        "print(result3)\n"
      ]
    },
    {
      "cell_type": "markdown",
      "metadata": {
        "id": "Re_QgX6E9Cw5"
      },
      "source": [
        "### Boolean Indexing\n",
        "\n",
        "NumPy supports boolean expressions in place of indices, where the expression results in an array of boolean values with the same length as the axis it’s indexing"
      ]
    },
    {
      "cell_type": "markdown",
      "metadata": {},
      "source": [
        "Problem 8"
      ]
    },
    {
      "cell_type": "code",
      "execution_count": 43,
      "metadata": {
        "colab": {
          "base_uri": "https://localhost:8080/"
        },
        "id": "IMEp_RGh_Fu5",
        "outputId": "45332ef8-2c42-4c40-af09-6caaf98bca6b"
      },
      "outputs": [
        {
          "name": "stdout",
          "output_type": "stream",
          "text": [
            "[[0 1 0 1 0 0 0]\n",
            " [0 1 0 1 0 0 1]]\n",
            "\n",
            "[[0 1 0 1 0 0 0]\n",
            " [1 1 0 1 1 0 0]\n",
            " [0 0 1 1 1 0 1]\n",
            " [0 1 0 1 0 0 1]\n",
            " [0 0 1 1 0 1 0]\n",
            " [0 1 0 0 1 0 0]\n",
            " [1 1 0 0 0 1 1]]\n"
          ]
        }
      ],
      "source": [
        "import numpy as np\n",
        "names = np.array(['Bob', 'Joe', 'Will', 'Bob', 'Will', 'Joe', 'Joe'])\n",
        "data = np.random.randint(2, size=(7, 7)) # create an array of random values\n",
        "\n",
        "# Select and print the first and forth rows from 'data' using just the array 'names' and 'data'. Print out both the selected rows and 'data'. \n",
        "# Hint\" The \"Bob\" appears in both the first and forth rows. \n",
        "\n",
        "#Create a boolean array where True corresponds to the positions where the name is \"Bob\" and\n",
        "#select rows in data corresonding to True values in the boolean array. \n",
        "\n",
        "selected_rows = data[names == 'Bob']\n",
        "\n",
        "print(selected_rows)\n",
        "print()\n",
        "print(data)\n"
      ]
    },
    {
      "cell_type": "markdown",
      "metadata": {
        "id": "OlnpB0bHu00T"
      },
      "source": [
        "Problem 9: The expression can be assigned to a variable and used in place of slicing"
      ]
    },
    {
      "cell_type": "code",
      "execution_count": 44,
      "metadata": {
        "colab": {
          "base_uri": "https://localhost:8080/"
        },
        "id": "BgULatpwt7X_",
        "outputId": "c31d49b4-92ff-4514-c91b-8eeb42573b5f"
      },
      "outputs": [
        {
          "name": "stdout",
          "output_type": "stream",
          "text": [
            "[[0 1 0 1 0 0 0]\n",
            " [0 1 0 1 0 0 1]]\n",
            "\n",
            "[[0 1 0 1 0 0 0]\n",
            " [1 1 0 1 1 0 0]\n",
            " [0 0 1 1 1 0 1]\n",
            " [0 1 0 1 0 0 1]\n",
            " [0 0 1 1 0 1 0]\n",
            " [0 1 0 0 1 0 0]\n",
            " [1 1 0 0 0 1 1]]\n"
          ]
        }
      ],
      "source": [
        "# Again output the first and fouth rows using the cond below. Meaning replace None with an expression\n",
        "cond = names == 'Bob'\n",
        "selected_rows = data[cond]\n",
        "\n",
        "print(selected_rows)\n",
        "print()\n",
        "print(data)"
      ]
    },
    {
      "cell_type": "markdown",
      "metadata": {
        "id": "nbN7s4IzvGzY"
      },
      "source": [
        "Problem 10: The expression can be negated"
      ]
    },
    {
      "cell_type": "code",
      "execution_count": 45,
      "metadata": {
        "colab": {
          "base_uri": "https://localhost:8080/"
        },
        "id": "EP-SDDVIvK8s",
        "outputId": "cce4fab9-cd5e-46c2-c615-f2518f1b4a72"
      },
      "outputs": [
        {
          "name": "stdout",
          "output_type": "stream",
          "text": [
            "[[1 1 0 1 1 0 0]\n",
            " [0 0 1 1 1 0 1]\n",
            " [0 0 1 1 0 1 0]\n",
            " [0 1 0 0 1 0 0]\n",
            " [1 1 0 0 0 1 1]]\n"
          ]
        }
      ],
      "source": [
        "# Select all rows except the first and forth\n",
        "result = np.delete(data, [0, 3], axis=0)\n",
        "print(result)\n"
      ]
    },
    {
      "cell_type": "markdown",
      "metadata": {
        "id": "HzywZwzQvRr1"
      },
      "source": [
        "Problem 11: The expression can be combined with other indices"
      ]
    },
    {
      "cell_type": "code",
      "execution_count": 46,
      "metadata": {
        "colab": {
          "base_uri": "https://localhost:8080/"
        },
        "id": "QYjmF7eFvTmc",
        "outputId": "172adeb5-31d7-47ad-e3af-59c352f96f97"
      },
      "outputs": [
        {
          "name": "stdout",
          "output_type": "stream",
          "text": [
            "[[0 1 0 0 0]\n",
            " [0 1 0 0 1]]\n"
          ]
        }
      ],
      "source": [
        "# Select the last 5 columns for the first and forth row\n",
        "result = data[[0, 3], -5:]\n",
        "print(result)\n"
      ]
    },
    {
      "cell_type": "markdown",
      "metadata": {
        "id": "m1HIlpIGvayK"
      },
      "source": [
        "Problem 12: boolean expressions can be combined with logical operators"
      ]
    },
    {
      "cell_type": "code",
      "execution_count": 47,
      "metadata": {
        "colab": {
          "base_uri": "https://localhost:8080/"
        },
        "id": "sciz0aprvh8u",
        "outputId": "24c8c092-cbe9-4665-9e01-9d193bcac8df"
      },
      "outputs": [
        {
          "name": "stdout",
          "output_type": "stream",
          "text": [
            "[[0 1 0 1 0 0 0]\n",
            " [0 0 1 1 1 0 1]\n",
            " [0 1 0 1 0 0 1]\n",
            " [0 0 1 1 0 1 0]]\n"
          ]
        }
      ],
      "source": [
        "# Select the first, third, forth and fifth row using similar conditioins and an OR operator\n",
        "# Use Numpy \"or\" operator \"|\" to choose rows.\n",
        "# The np.arrange(data.shape[]) statement creates an array of indeces from 0 to data.shape[0]-1 \n",
        "condition = (np.arange(data.shape[0]) == 0) | (np.arange(data.shape[0]) == 2) | (np.arange(data.shape[0]) == 3) | (np.arange(data.shape[0]) == 4)\n",
        "selected_rows = data[condition]\n",
        "print(selected_rows)"
      ]
    },
    {
      "cell_type": "markdown",
      "metadata": {
        "id": "9RxU_gS2Tftd"
      },
      "source": [
        "### Array Oriented Programming\n",
        "\n",
        "NumPy supports **vectorization** where data processing is executed as array expressions without **for loops**. Vectorized operations can be 1-2 orders of magnitude faster that pure Python equivalents.\n",
        "\n",
        "Any arithmetic operation between equal-size arrays applies the operation element-wise.\n"
      ]
    },
    {
      "cell_type": "markdown",
      "metadata": {},
      "source": [
        "Problem 13"
      ]
    },
    {
      "cell_type": "code",
      "execution_count": 48,
      "metadata": {
        "colab": {
          "base_uri": "https://localhost:8080/"
        },
        "id": "HdWTjc8CZI5R",
        "outputId": "e070b71e-bdee-4abc-f378-474978208ad5"
      },
      "outputs": [
        {
          "name": "stdout",
          "output_type": "stream",
          "text": [
            "[[1. 2. 3.]\n",
            " [4. 5. 6.]]\n",
            "\n",
            "[[ 6.  7.  8.]\n",
            " [ 9. 10. 11.]]\n",
            "\n",
            "[[10. 20. 30.]\n",
            " [40. 50. 60.]]\n"
          ]
        }
      ],
      "source": [
        "array1 = np.array([[1., 2., 3.], [4., 5., 6.]])\n",
        "\n",
        "print(array1)\n",
        "\n",
        "# Add 5 to all values in array1 and print \n",
        "print()\n",
        "array1_plus_5 = array1 + 5\n",
        "print(array1_plus_5)\n",
        "\n",
        "\n",
        "# Multiple all values in array1 by 10 and print \n",
        "print()\n",
        "array1_times_10 = array1 * 10\n",
        "print(array1_times_10)"
      ]
    },
    {
      "cell_type": "markdown",
      "metadata": {
        "id": "2Oj2sAwmaMXh"
      },
      "source": [
        "Problem 14: Comparisons between arrays of the same size yield boolean arrays:"
      ]
    },
    {
      "cell_type": "code",
      "execution_count": 49,
      "metadata": {
        "colab": {
          "base_uri": "https://localhost:8080/"
        },
        "id": "uHr0DxrmaOEZ",
        "outputId": "b0f74550-427d-4333-c010-45f886677379"
      },
      "outputs": [
        {
          "name": "stdout",
          "output_type": "stream",
          "text": [
            "[[False  True False]\n",
            " [ True False  True]]\n"
          ]
        }
      ],
      "source": [
        "array2 = np.array([[0., 4., 1.], [7., 2., 12.]])\n",
        "\n",
        "result = array1 < array2\n",
        "\n",
        "# Test to see if pairwise elements in array1 are less than the corresponding element in array2. Output the results.\n",
        "# i.e. compariing the first elements of the first rows would output False because 1 is not less than 0\n",
        "\n",
        "print(result)"
      ]
    },
    {
      "cell_type": "markdown",
      "metadata": {
        "id": "KQpP6ZU7CWd2"
      },
      "source": [
        "### Universal Functions\n",
        "\n",
        "NumPy provides universal functions the can perform element-wise operations on array data. They are fast vectorized wrappers for simple functions that take a scalar value and produce one or more scalar results.\n",
        "\n",
        "- Unary functions - e.g. sqrt, exp - perform element-wise transformations\n",
        "- Binary functions - e.g. add, maximum - take two arrays and return a single-array as the result\n",
        "- Ufuncs can use an optional ‘out’ parameter to perform in-place transformations\n"
      ]
    },
    {
      "cell_type": "markdown",
      "metadata": {
        "id": "WpjUlspMTpK_"
      },
      "source": [
        "### Conditional Logic"
      ]
    },
    {
      "cell_type": "markdown",
      "metadata": {},
      "source": [
        "Problem 15"
      ]
    },
    {
      "cell_type": "code",
      "execution_count": 50,
      "metadata": {
        "colab": {
          "base_uri": "https://localhost:8080/"
        },
        "id": "k5pIynI12dmY",
        "outputId": "cd39dc42-7bab-4a92-c3e0-151a287d0b07"
      },
      "outputs": [
        {
          "name": "stdout",
          "output_type": "stream",
          "text": [
            "[1. 0. 1. 1. 0.]\n"
          ]
        }
      ],
      "source": [
        "arr1 = np.ones(5)\n",
        "arr2 = np.zeros(5)\n",
        "cond = np.array([True, False, True, True, False])\n",
        "\n",
        "# Output the value from `arr1` whenever the corresponding value in `cond` is True, and otherwise take the value from `arr2`. \n",
        "result = np.where(cond, arr1, arr2)\n",
        "\n",
        "print(result)"
      ]
    },
    {
      "cell_type": "markdown",
      "metadata": {
        "id": "-bWxpXhOT9eY"
      },
      "source": [
        "### Math & Statistical Methods\n",
        "\n",
        "NumPy can compute statistics for an entire array or the data along a single axis.\n",
        "- Can compute aggregations by invoking the array instance method or the top-level NumPy function\n",
        "- Can specify whether to compute across rows or columns\n",
        "- Can use `sum` to count number of True values in a boolean array\n",
        "\n",
        "Methods:\n",
        "- mean\n",
        "- sum\n",
        "- cumsum"
      ]
    },
    {
      "cell_type": "markdown",
      "metadata": {},
      "source": [
        "Problem 16"
      ]
    },
    {
      "cell_type": "code",
      "execution_count": 51,
      "metadata": {
        "colab": {
          "base_uri": "https://localhost:8080/"
        },
        "id": "ImvBT7NX3aY7",
        "outputId": "d04b3b76-91e4-4a40-e047-1e7a55bfd4ed"
      },
      "outputs": [
        {
          "name": "stdout",
          "output_type": "stream",
          "text": [
            "[[2 2 0 2]\n",
            " [1 2 0 0]\n",
            " [3 2 1 0]\n",
            " [1 1 2 2]\n",
            " [0 0 1 2]]\n",
            "1.2\n",
            "24\n",
            "[ 2  4  4  6  7  9  9  9 12 14 15 15 16 17 19 21 21 21 22 24]\n"
          ]
        }
      ],
      "source": [
        "arr = np.random.randint(4, size=(5, 4))\n",
        "print(arr)\n",
        "\n",
        "# Calculate and print the mean and sum for all values in the array\n",
        "mean_value = np.mean(arr)\n",
        "print(mean_value)\n",
        "\n",
        "sum_value = np.sum(arr)\n",
        "print(sum_value)\n",
        "\n",
        "cumsum_value = np.cumsum(arr)\n",
        "print(cumsum_value)\n",
        "\n",
        "\n"
      ]
    },
    {
      "cell_type": "markdown",
      "metadata": {},
      "source": [
        "Problem 17"
      ]
    },
    {
      "cell_type": "code",
      "execution_count": 52,
      "metadata": {
        "colab": {
          "base_uri": "https://localhost:8080/"
        },
        "id": "kxw7AUVm31Ea",
        "outputId": "b1cb6ece-5056-41b1-8c1b-f57612b9dae1"
      },
      "outputs": [
        {
          "name": "stdout",
          "output_type": "stream",
          "text": [
            "[1.4 1.4 0.8 1.2]\n",
            "[1.5  0.75 1.5  1.5  0.75]\n",
            "\n",
            "[7 7 4 6]\n",
            "[6 3 6 6 3]\n"
          ]
        }
      ],
      "source": [
        "# Calculate the mean and sum across the columns and the rows. Print out both\n",
        "mean_cols = np.mean(arr, axis=0)\n",
        "mean_rows = np.mean(arr, axis=1)\n",
        "\n",
        "sum_cols = np.sum(arr, axis=0)\n",
        "sum_rows = np.sum(arr, axis=1)\n",
        "\n",
        "print(mean_cols)\n",
        "print(mean_rows)\n",
        "print()\n",
        "print(sum_cols)\n",
        "print(sum_rows)"
      ]
    },
    {
      "cell_type": "markdown",
      "metadata": {},
      "source": [
        "Problem 18"
      ]
    },
    {
      "cell_type": "code",
      "execution_count": 53,
      "metadata": {},
      "outputs": [
        {
          "name": "stdout",
          "output_type": "stream",
          "text": [
            "[ 2  4  4  6  7  9  9  9 12 14 15 15 16 17 19 21 21 21 22 24]\n",
            "\n",
            "[[2 2 0 2]\n",
            " [3 4 0 2]\n",
            " [6 6 1 2]\n",
            " [7 7 3 4]\n",
            " [7 7 4 6]]\n",
            "\n",
            "[[2 4 4 6]\n",
            " [1 3 3 3]\n",
            " [3 5 6 6]\n",
            " [1 2 4 6]\n",
            " [0 0 1 3]]\n"
          ]
        }
      ],
      "source": [
        "# Print out the cumulative sum for the full array, the columns and the rows. \n",
        "# For example the array [[1, 1, 1], [1, 1, 1]] would have the following outputs:\n",
        "# full array: [1, 2, 3, 4, 5, 6]\n",
        "# columns: [[1, 1, 1], [2, 2, 2]]\n",
        "# rows: [[1, 2, 3], [1, 2, 3]]\n",
        "\n",
        "cumsum_full = np.cumsum(arr)\n",
        "cumsum_cols = np.cumsum(arr, axis=0)\n",
        "cumsum_rows = np.cumsum(arr, axis=1)\n",
        "\n",
        "print(cumsum_full)\n",
        "print()\n",
        "print(cumsum_cols)\n",
        "print()\n",
        "print(cumsum_rows)\n",
        "\n",
        "\n"
      ]
    },
    {
      "cell_type": "markdown",
      "metadata": {},
      "source": [
        "Problem 19"
      ]
    },
    {
      "cell_type": "code",
      "execution_count": 54,
      "metadata": {
        "colab": {
          "base_uri": "https://localhost:8080/"
        },
        "id": "sDnJpvUR1B1W",
        "outputId": "c4806b83-0ba9-448e-c4b7-f9ca53a8900d"
      },
      "outputs": [
        {
          "name": "stdout",
          "output_type": "stream",
          "text": [
            "[0 1 2 3 4 5 6 7 8 9]\n",
            "\n",
            "[1 3 5 7 9]\n",
            "\n",
            "[9 8 7 6 5 4 3 2 1 0]\n",
            "\n"
          ]
        }
      ],
      "source": [
        "\n",
        "arr = np.arange(10)\n",
        "print(arr)\n",
        "print()\n",
        "\n",
        "\n",
        "# Print out all all odd values\n",
        "odd_values = arr[arr % 2 != 0]\n",
        "print(odd_values)\n",
        "print()\n",
        "\n",
        "\n",
        "\n",
        "# Print out all values in reverse order\n",
        "reverse_values = arr[::-1]\n",
        "print(reverse_values)\n",
        "print()\n",
        "\n"
      ]
    }
  ],
  "metadata": {
    "colab": {
      "authorship_tag": "ABX9TyPqfdFhVNpD2xh4VlSkac1G",
      "collapsed_sections": [
        "Re_QgX6E9Cw5",
        "9RxU_gS2Tftd"
      ],
      "include_colab_link": true,
      "name": "2_numpy_pandas.ipynb",
      "provenance": []
    },
    "kernelspec": {
      "display_name": "Python 3",
      "language": "python",
      "name": "python3"
    },
    "language_info": {
      "codemirror_mode": {
        "name": "ipython",
        "version": 3
      },
      "file_extension": ".py",
      "mimetype": "text/x-python",
      "name": "python",
      "nbconvert_exporter": "python",
      "pygments_lexer": "ipython3",
      "version": "3.12.8"
    }
  },
  "nbformat": 4,
  "nbformat_minor": 0
}
