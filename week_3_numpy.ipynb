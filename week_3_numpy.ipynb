{
  "cells": [
    {
      "cell_type": "markdown",
      "metadata": {
        "id": "0CEWh8h_v3IF"
      },
      "source": [
        "# Intro to NumPy\n",
        "\n",
        "---\n",
        "\n",
        "NumPy is a foundational package for numerical computing in Python.\n",
        "\n",
        "*   NumPy provides `ndarray`, an efficient multi-dimensional array supporting fast array-oriented arithmetic operations.\n",
        "*   Can perform math operations on entire arrays without using for loops\n",
        "*   Can perform common array operations like sorting, unique, & set\n",
        "*   Linear Algebra, random number generation and Fourier transform capabilities\n",
        "*   C api for connecting with C, C++, & FORTRAN libraries\n",
        "*   Can map data directly onto underlying disk or memory representation\n"
      ]
    },
    {
      "cell_type": "markdown",
      "metadata": {
        "id": "VOeGstZzwvWu"
      },
      "source": [
        "### Efficiency\n",
        "- NumPy stores data in contiguous memory blocks\n",
        "- NumPy stores data with single type so operations don’t require type checking\n",
        "- Performs complex computations on entire arrays without the need for loops\n",
        "- Operations don’t copy arrays by default\n",
        "\n",
        "NumPy-based algorithms are generally 10 to 100 times faster (or more) than their pure Python counterparts and use significantly less memory.\n",
        "\n",
        "NumPy is designed & optimized for **vectorized** (batch) operations on array data without `for` loops\n",
        "\n",
        "- Arithmetic operations between equal-size arrays apply the operation element-wise - multiplication, addition, subtraction, division\n",
        "- Scalar operations propagate the scalar argument to each element in the array\n",
        "- Comparisons between equal size arrays yield boolean arrays\n"
      ]
    },
    {
      "cell_type": "markdown",
      "metadata": {
        "id": "ZJfOmTLLxQD1"
      },
      "source": [
        "### Creating arrays\n",
        "NumPy provides the `ndarray` a multi-dimensional array structure optimized for fast numeric operatons.\n",
        "\n",
        "ndarrays are constructed from sequences of homogenous values.\n",
        "\n",
        "Unless explicitly specified, `np.array` infers a data type for the created array and stores the data type in a special `dtype` metadata object.\n"
      ]
    },
    {
      "cell_type": "code",
      "execution_count": 1,
      "metadata": {
        "id": "Pt63xmy1qLll"
      },
      "outputs": [],
      "source": [
        "import numpy as np"
      ]
    },
    {
      "cell_type": "markdown",
      "metadata": {},
      "source": [
        "Problem 1"
      ]
    },
    {
      "cell_type": "code",
      "execution_count": null,
      "metadata": {
        "colab": {
          "base_uri": "https://localhost:8080/"
        },
        "id": "AVByQUYKxtNG",
        "outputId": "238e50f0-366d-41de-a44a-6cf3e063650c"
      },
      "outputs": [],
      "source": [
        "# create an array called numbers with 2 rows and 4 columns from literal values. Have your literal values be the integers 1-8\n",
        "numbers = None #Replace None with array defintion\n",
        "print(numbers)\n",
        "\n",
        "# Replace None below with each value for the array. \n",
        "print(\"\\nInspect the array\\n--------------\")\n",
        "print(\"dimensions:\", None)  # ndarrays have dimensions\n",
        "print(\"shape:\\t\", None)    # ndarrays have shape (numer of rows & columns)\n",
        "print(\"size:\\t\", None)     # number of elements in the array\n",
        "print(\"datatype\", None)    # numpy determines the datatype\n",
        "print(\"bytes:\\t\", None)  # total bytes consumed by the array"
      ]
    },
    {
      "cell_type": "markdown",
      "metadata": {
        "id": "4aB_q1LcQj_Z"
      },
      "source": [
        "Problem 2: `ndarray` has built-in methods to create special arrays."
      ]
    },
    {
      "cell_type": "code",
      "execution_count": null,
      "metadata": {
        "colab": {
          "base_uri": "https://localhost:8080/"
        },
        "id": "pTXgMRYRQS3v",
        "outputId": "010d4702-bc29-4f87-980e-66fe9b43436a"
      },
      "outputs": [],
      "source": [
        "# Create an 3 by 4 array of ones\n",
        "ones = None\n",
        "print(ones, \"\\n\")\n",
        "\n",
        "# Create an 3 by 4 array of zeros\n",
        "zeros = None\n",
        "print(zeros, \"\\n\")\n",
        "\n",
        "# Create an 2 by 2 array with random values\n",
        "rando = None\n",
        "print(rando, \"\\n\")\n",
        "\n",
        "# Create 3 by 2 an empty array\n",
        "empty = None\n",
        "print(empty, \"\\n\")\n",
        "\n",
        "# Create a 2 by 2 array full of 'x's, hint seach numpy full\n",
        "full = None\n",
        "print(full, \"\\n\")\n",
        "\n",
        "# Create an array of the form [10, 15, 20] using np.arange\n",
        "even = None\n",
        "print(even, \"\\n\")\n",
        "\n",
        "# Create an array of the form [0.   0.25 0.5  0.75 1.   1.25 1.5  1.75 2.  ]  using np.linspace\n",
        "line = None\n",
        "print(line, \"\\n\")\n"
      ]
    },
    {
      "cell_type": "markdown",
      "metadata": {
        "id": "vWpCRjv90Gna"
      },
      "source": [
        "### Indexing & Slicing\n",
        "\n",
        "NumPy supports data access with Python-like indexing & slicing\n",
        "\n",
        "- One-dimensional ndarrays act similar to Python lists\n",
        "- `ndarray` dimensions are sometimes referred to as axes - e.g. in a 2d array axis 0 is the ‘rows’ and axis 1 is the ‘columns’\n",
        "- ndarray slices are **views** on the original array and not copied. Any changes to the view are reflected in the source array\n"
      ]
    },
    {
      "cell_type": "markdown",
      "metadata": {},
      "source": [
        "Problem 3"
      ]
    },
    {
      "cell_type": "code",
      "execution_count": 4,
      "metadata": {
        "colab": {
          "base_uri": "https://localhost:8080/"
        },
        "id": "NSMJt_4x0qan",
        "outputId": "81e81c55-af1d-4149-dc7c-7edc8a1a582d"
      },
      "outputs": [],
      "source": [
        "arr1d = np.array([0,1, 2, 3, 4, 5, 6, 7, 8])\n",
        "\n",
        "# using indexing select and output [5, 6, 7] from arr1d. Save this slice to a variable named slice_arr1d\n"
      ]
    },
    {
      "cell_type": "markdown",
      "metadata": {},
      "source": [
        "Problem 4"
      ]
    },
    {
      "cell_type": "code",
      "execution_count": 5,
      "metadata": {
        "colab": {
          "base_uri": "https://localhost:8080/"
        },
        "id": "Xe-PXYhBp4bn",
        "outputId": "cf387d7a-d51f-4540-8d9a-571a9a24f7b5"
      },
      "outputs": [],
      "source": [
        "# Replace 6, 7, and 8 with 12 in arr1d using one line of code. Then print arr1d and slice_arr1d\n"
      ]
    },
    {
      "cell_type": "markdown",
      "metadata": {},
      "source": [
        "Problem 5"
      ]
    },
    {
      "cell_type": "code",
      "execution_count": 6,
      "metadata": {
        "colab": {
          "base_uri": "https://localhost:8080/"
        },
        "id": "Eh0My7Eaqe77",
        "outputId": "693ef4b3-97a0-4a42-d77a-740fa2cd81db"
      },
      "outputs": [],
      "source": [
        "# Create a copy of arr1d and name it new_array. Hint: You can't use new_array = arr1d"
      ]
    },
    {
      "cell_type": "markdown",
      "metadata": {},
      "source": [
        "Problem 6"
      ]
    },
    {
      "cell_type": "code",
      "execution_count": 7,
      "metadata": {},
      "outputs": [],
      "source": [
        "arr2d = np.array([[1, 2, 3, 4], [5, 6, 7, 8]])\n",
        "\n",
        "# There are two ways to select 3 from the 2 dimensional array above. Use both ways to select 3 and print the results. "
      ]
    },
    {
      "cell_type": "markdown",
      "metadata": {},
      "source": [
        "Problem 7"
      ]
    },
    {
      "cell_type": "code",
      "execution_count": 8,
      "metadata": {
        "colab": {
          "base_uri": "https://localhost:8080/"
        },
        "id": "kvMvyar216T5",
        "outputId": "943f42a4-469a-48f0-f4d4-546849ffa08d"
      },
      "outputs": [],
      "source": [
        "# In mult-dimensional arrays, slicing that omits later indices will return a lower-dimensional ndarray\n",
        "# Select and print out the following:\n",
        "\n",
        "# select first two rows and all but first column\n",
        "\n",
        "# select first two rows and only 3rd column\n",
        "\n",
        "# select all columns in the first row\n"
      ]
    },
    {
      "cell_type": "markdown",
      "metadata": {
        "id": "Re_QgX6E9Cw5"
      },
      "source": [
        "### Boolean Indexing\n",
        "\n",
        "NumPy supports boolean expressions in place of indices, where the expression results in an array of boolean values with the same length as the axis it’s indexing"
      ]
    },
    {
      "cell_type": "markdown",
      "metadata": {},
      "source": [
        "Problem 8"
      ]
    },
    {
      "cell_type": "code",
      "execution_count": 9,
      "metadata": {
        "colab": {
          "base_uri": "https://localhost:8080/"
        },
        "id": "IMEp_RGh_Fu5",
        "outputId": "45332ef8-2c42-4c40-af09-6caaf98bca6b"
      },
      "outputs": [],
      "source": [
        "import numpy as np\n",
        "names = np.array(['Bob', 'Joe', 'Will', 'Bob', 'Will', 'Joe', 'Joe'])\n",
        "data = np.random.randint(2, size=(7, 7)) # create an array of random values\n",
        "\n",
        "# Select and print the first and forth rows from 'data' using just the array 'names' and 'data'. Print out both the selected rows and 'data'. \n",
        "# Hint\" The \"Bob\" appears in both the first and forth rows. "
      ]
    },
    {
      "cell_type": "markdown",
      "metadata": {
        "id": "OlnpB0bHu00T"
      },
      "source": [
        "Problem 9: The expression can be assigned to a variable and used in place of slicing"
      ]
    },
    {
      "cell_type": "code",
      "execution_count": null,
      "metadata": {
        "colab": {
          "base_uri": "https://localhost:8080/"
        },
        "id": "BgULatpwt7X_",
        "outputId": "c31d49b4-92ff-4514-c91b-8eeb42573b5f"
      },
      "outputs": [],
      "source": [
        "# Again output the first and fouth rows using the cond below. Meaning replace None with an expression\n",
        "cond = None\n",
        "data[cond]"
      ]
    },
    {
      "cell_type": "markdown",
      "metadata": {
        "id": "nbN7s4IzvGzY"
      },
      "source": [
        "Problem 10: The expression can be negated"
      ]
    },
    {
      "cell_type": "code",
      "execution_count": 11,
      "metadata": {
        "colab": {
          "base_uri": "https://localhost:8080/"
        },
        "id": "EP-SDDVIvK8s",
        "outputId": "cce4fab9-cd5e-46c2-c615-f2518f1b4a72"
      },
      "outputs": [],
      "source": [
        "# Select all rows except the first and forth"
      ]
    },
    {
      "cell_type": "markdown",
      "metadata": {
        "id": "HzywZwzQvRr1"
      },
      "source": [
        "Problem 11: The expression can be combined with other indices"
      ]
    },
    {
      "cell_type": "code",
      "execution_count": 12,
      "metadata": {
        "colab": {
          "base_uri": "https://localhost:8080/"
        },
        "id": "QYjmF7eFvTmc",
        "outputId": "172adeb5-31d7-47ad-e3af-59c352f96f97"
      },
      "outputs": [],
      "source": [
        "# Select the last 5 columns for the first and forth row"
      ]
    },
    {
      "cell_type": "markdown",
      "metadata": {
        "id": "m1HIlpIGvayK"
      },
      "source": [
        "Problem 12: boolean expressions can be combined with logical operators"
      ]
    },
    {
      "cell_type": "code",
      "execution_count": 13,
      "metadata": {
        "colab": {
          "base_uri": "https://localhost:8080/"
        },
        "id": "sciz0aprvh8u",
        "outputId": "24c8c092-cbe9-4665-9e01-9d193bcac8df"
      },
      "outputs": [],
      "source": [
        "# Select the first, third, forth and fifth row using similar conditioins and an OR operator"
      ]
    },
    {
      "cell_type": "markdown",
      "metadata": {
        "id": "9RxU_gS2Tftd"
      },
      "source": [
        "### Array Oriented Programming\n",
        "\n",
        "NumPy supports **vectorization** where data processing is executed as array expressions without **for loops**. Vectorized operations can be 1-2 orders of magnitude faster that pure Python equivalents.\n",
        "\n",
        "Any arithmetic operation between equal-size arrays applies the operation element-wise.\n"
      ]
    },
    {
      "cell_type": "markdown",
      "metadata": {},
      "source": [
        "Problem 13"
      ]
    },
    {
      "cell_type": "code",
      "execution_count": null,
      "metadata": {
        "colab": {
          "base_uri": "https://localhost:8080/"
        },
        "id": "HdWTjc8CZI5R",
        "outputId": "e070b71e-bdee-4abc-f378-474978208ad5"
      },
      "outputs": [],
      "source": [
        "array1 = np.array([[1., 2., 3.], [4., 5., 6.]])\n",
        "\n",
        "print(array1)\n",
        "\n",
        "# Add 5 to all values in array1 and print \n",
        "print()\n",
        "\n",
        "\n",
        "# Multiple all values in array1 by 10 and print \n",
        "print()\n"
      ]
    },
    {
      "cell_type": "markdown",
      "metadata": {
        "id": "2Oj2sAwmaMXh"
      },
      "source": [
        "Problem 14: Comparisons between arrays of the same size yield boolean arrays:"
      ]
    },
    {
      "cell_type": "code",
      "execution_count": 15,
      "metadata": {
        "colab": {
          "base_uri": "https://localhost:8080/"
        },
        "id": "uHr0DxrmaOEZ",
        "outputId": "b0f74550-427d-4333-c010-45f886677379"
      },
      "outputs": [],
      "source": [
        "array2 = np.array([[0., 4., 1.], [7., 2., 12.]])\n",
        "\n",
        "\n",
        "# Test to see if pairwise elements in array1 are less than the corresponding element in array2. Output the results.\n",
        "# i.e. compariing the first elements of the first rows would output False because 1 is not less than 0"
      ]
    },
    {
      "cell_type": "markdown",
      "metadata": {
        "id": "KQpP6ZU7CWd2"
      },
      "source": [
        "### Universal Functions\n",
        "\n",
        "NumPy provides universal functions the can perform element-wise operations on array data. They are fast vectorized wrappers for simple functions that take a scalar value and produce one or more scalar results.\n",
        "\n",
        "- Unary functions - e.g. sqrt, exp - perform element-wise transformations\n",
        "- Binary functions - e.g. add, maximum - take two arrays and return a single-array as the result\n",
        "- Ufuncs can use an optional ‘out’ parameter to perform in-place transformations\n"
      ]
    },
    {
      "cell_type": "markdown",
      "metadata": {
        "id": "WpjUlspMTpK_"
      },
      "source": [
        "### Conditional Logic"
      ]
    },
    {
      "cell_type": "markdown",
      "metadata": {},
      "source": [
        "Problem 15"
      ]
    },
    {
      "cell_type": "code",
      "execution_count": 16,
      "metadata": {
        "colab": {
          "base_uri": "https://localhost:8080/"
        },
        "id": "k5pIynI12dmY",
        "outputId": "cd39dc42-7bab-4a92-c3e0-151a287d0b07"
      },
      "outputs": [],
      "source": [
        "arr1 = np.ones(5)\n",
        "arr2 = np.zeros(5)\n",
        "cond = np.array([True, False, True, True, False])\n",
        "\n",
        "# Output the value from `arr1` whenever the corresponding value in `cond` is True, and otherwise take the value from `arr2`. \n"
      ]
    },
    {
      "cell_type": "markdown",
      "metadata": {
        "id": "-bWxpXhOT9eY"
      },
      "source": [
        "### Math & Statistical Methods\n",
        "\n",
        "NumPy can compute statistics for an entire array or the data along a single axis.\n",
        "- Can compute aggregations by invoking the array instance method or the top-level NumPy function\n",
        "- Can specify whether to compute across rows or columns\n",
        "- Can use `sum` to count number of True values in a boolean array\n",
        "\n",
        "Methods:\n",
        "- mean\n",
        "- sum\n",
        "- cumsum"
      ]
    },
    {
      "cell_type": "markdown",
      "metadata": {},
      "source": [
        "Problem 16"
      ]
    },
    {
      "cell_type": "code",
      "execution_count": null,
      "metadata": {
        "colab": {
          "base_uri": "https://localhost:8080/"
        },
        "id": "ImvBT7NX3aY7",
        "outputId": "d04b3b76-91e4-4a40-e047-1e7a55bfd4ed"
      },
      "outputs": [],
      "source": [
        "arr = np.random.randint(4, size=(5, 4))\n",
        "print(arr)\n",
        "\n",
        "# Calculate and print the mean and sum for all values in the array\n"
      ]
    },
    {
      "cell_type": "markdown",
      "metadata": {},
      "source": [
        "Problem 17"
      ]
    },
    {
      "cell_type": "code",
      "execution_count": 18,
      "metadata": {
        "colab": {
          "base_uri": "https://localhost:8080/"
        },
        "id": "kxw7AUVm31Ea",
        "outputId": "b1cb6ece-5056-41b1-8c1b-f57612b9dae1"
      },
      "outputs": [],
      "source": [
        "# Calculate the mean and sum across the columns and the rows. Print out both\n"
      ]
    },
    {
      "cell_type": "markdown",
      "metadata": {},
      "source": [
        "Problem 18"
      ]
    },
    {
      "cell_type": "code",
      "execution_count": 19,
      "metadata": {},
      "outputs": [],
      "source": [
        "# Print out the cumulative sum for the full array, the columns and the rows. \n",
        "# For example the array [[1, 1, 1], [1, 1, 1]] would have the following outputs:\n",
        "# full array: [1, 2, 3, 4, 5, 6]\n",
        "# columns: [[1, 1, 1], [2, 2, 2]]\n",
        "# rows: [[1, 2, 3], [1, 2, 3]]\n"
      ]
    },
    {
      "cell_type": "markdown",
      "metadata": {},
      "source": [
        "Problem 19"
      ]
    },
    {
      "cell_type": "code",
      "execution_count": null,
      "metadata": {
        "colab": {
          "base_uri": "https://localhost:8080/"
        },
        "id": "sDnJpvUR1B1W",
        "outputId": "c4806b83-0ba9-448e-c4b7-f9ca53a8900d"
      },
      "outputs": [],
      "source": [
        "\n",
        "arr = np.arange(10)\n",
        "print(arr)\n",
        "\n",
        "\n",
        "# Print out all all odd values\n",
        "\n",
        "# Print out all values in reverse order\n"
      ]
    }
  ],
  "metadata": {
    "colab": {
      "authorship_tag": "ABX9TyPqfdFhVNpD2xh4VlSkac1G",
      "collapsed_sections": [
        "Re_QgX6E9Cw5",
        "9RxU_gS2Tftd"
      ],
      "include_colab_link": true,
      "name": "2_numpy_pandas.ipynb",
      "provenance": []
    },
    "kernelspec": {
      "display_name": "base",
      "language": "python",
      "name": "python3"
    },
    "language_info": {
      "codemirror_mode": {
        "name": "ipython",
        "version": 3
      },
      "file_extension": ".py",
      "mimetype": "text/x-python",
      "name": "python",
      "nbconvert_exporter": "python",
      "pygments_lexer": "ipython3",
      "version": "3.12.4"
    }
  },
  "nbformat": 4,
  "nbformat_minor": 0
}
